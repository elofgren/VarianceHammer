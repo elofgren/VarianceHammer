{
 "cells": [
  {
   "cell_type": "markdown",
   "metadata": {},
   "source": [
    "Code for Variance Hammer's Analysis of Curse of the Wulfen\n",
    "==============================\n",
    "This code is for the analysis accompanying the post on the Warzone Fenris supplement. The text of the post itself can be found at: http://www.variancehammer.com. Note that because this analysis uses random numbers, any results you obtain may differ from those on the blog posting due to random chance."
   ]
  },
  {
   "cell_type": "markdown",
   "metadata": {},
   "source": [
    "**Import the necessary libraries**  \n",
    "\n",
    "These are easily obtained using the Anaconda Python Distribution, which is available free from http://www.continuum.io"
   ]
  },
  {
   "cell_type": "code",
   "execution_count": 9,
   "metadata": {
    "collapsed": false
   },
   "outputs": [],
   "source": [
    "%matplotlib inline"
   ]
  },
  {
   "cell_type": "code",
   "execution_count": 10,
   "metadata": {
    "collapsed": false
   },
   "outputs": [],
   "source": [
    "import numpy as np\n",
    "import random as rand\n",
    "import seaborn as sns\n",
    "import matplotlib as mpl\n",
    "import matplotlib.pyplot as plt"
   ]
  },
  {
   "cell_type": "code",
   "execution_count": 11,
   "metadata": {
    "collapsed": true
   },
   "outputs": [],
   "source": [
    "# Graphic and Simulation parameters\n",
    "sns.set_palette(\"deep\", desat=.6)\n",
    "sns.set_context(rc={\"figure.figsize\": (8, 4)})\n",
    "runs = 10000"
   ]
  },
  {
   "cell_type": "markdown",
   "metadata": {},
   "source": [
    "As there is no Variance Hammer library available (yet), we need to define a couple useful functions. DiceRoller() is a function to roll an arbitrary number of d6 dice. Shooting() does what it says on the tin - it takes a number of shots, rolls the appropriate number of d6 dice, checks those results against Ballistic Skill, and if the shots are twin-linked, rerolls as appropriate. Note that at the moment this function does not work for BS values above 6."
   ]
  },
  {
   "cell_type": "code",
   "execution_count": 12,
   "metadata": {
    "collapsed": true
   },
   "outputs": [],
   "source": [
    "def DiceRoller(n_rolls):\n",
    "\ttry:\n",
    "\t\tdice = int(n_rolls)\n",
    "\texcept ValueError:\n",
    "\t\tprint(\"Number of dice to roll needs to be an integer\")\n",
    "\trolls = np.random.random_integers(6, size=(1.,dice))\n",
    "\treturn rolls"
   ]
  },
  {
   "cell_type": "markdown",
   "metadata": {},
   "source": [
    "Analysis of Elite CC Unit Mobility"
   ]
  },
  {
   "cell_type": "code",
   "execution_count": 13,
   "metadata": {
    "collapsed": true
   },
   "outputs": [],
   "source": [
    "move = np.empty([runs,3])"
   ]
  },
  {
   "cell_type": "code",
   "execution_count": 14,
   "metadata": {
    "collapsed": false
   },
   "outputs": [
    {
     "data": {
      "text/plain": [
       "<matplotlib.text.Text at 0x1163a7b50>"
      ]
     },
     "execution_count": 14,
     "metadata": {},
     "output_type": "execute_result"
    },
    {
     "data": {
      "image/png": "[encoded data removed]",
      "text/plain": [
       "<matplotlib.figure.Figure at 0x118f08950>"
      ]
     },
     "metadata": {},
     "output_type": "display_data"
    }
   ],
   "source": [
    "def WGMove():\n",
    "    # 6\" move + charge\n",
    "    distance = 6 + rand.randint(1,6) + rand.randint(1,6)\n",
    "    return distance\n",
    "\n",
    "def WulfenMove():\n",
    "    # 6\" move + run + re-rollable charge\n",
    "    # Assuming re-rolled charge below 7\"\n",
    "    charge = rand.randint(1,6) + rand.randint(1,6)\n",
    "    if charge < 8:\n",
    "        charge = rand.randint(1,6) + rand.randint(1,6)\n",
    "    distance = 6 + rand.randint(1,6) + charge\n",
    "    return distance\n",
    "\n",
    "def TWolfMove():\n",
    "    # 12\" move + charge with fleet\n",
    "    # Assuming fleet reroll if below 4\n",
    "    charge1 = rand.randint(1,6)\n",
    "    charge2 = rand.randint(1,6)\n",
    "    if charge1 < 4:\n",
    "        charge1 = rand.randint(1,6)\n",
    "    if charge2 < 4:\n",
    "        charge2 = rand.randint(1,6)\n",
    "    charge = charge1 + charge2\n",
    "    distance = 12 + charge\n",
    "    return distance\n",
    "\n",
    "for d in range(runs):\n",
    "    move[d][0] = WGMove()\n",
    "    move[d][1] = WulfenMove()\n",
    "    move[d][2] = TWolfMove()\n",
    "\n",
    "plt.hist(move[:,0],bins=10,alpha=0.50,color=\"DarkViolet\")\n",
    "plt.hist(move[:,1],bins=10,alpha=0.50,color=\"DeepSkyBlue\")\n",
    "plt.hist(move[:,2],bins=10,alpha=0.50,color=\"DarkGreen\")\n",
    "plt.xlabel(\"Charge Threat Range\")\n",
    "plt.ylabel(\"Number of Simulated Games\")\n",
    "    "
   ]
  },
  {
   "cell_type": "code",
   "execution_count": 15,
   "metadata": {
    "collapsed": true
   },
   "outputs": [],
   "source": [
    "def Shooting(BS, n_shots, twinlinked):\n",
    "    try:\n",
    "        BS = int(BS)\n",
    "    except ValueError:\n",
    "        print(\"BS needs to be an integer\")\n",
    "    try:\n",
    "        n_shots = int(n_shots)\n",
    "    except ValueError:\n",
    "        print(\"Number of shots needs to be an integer\")\n",
    "    if twinlinked == \"Y\":\n",
    "        shots = DiceRoller(n_shots)\n",
    "        shots[shots < (7-BS)] = rand.randint(1,6)\n",
    "    elif twinlinked ==\"N\":\n",
    "        shots = DiceRoller(n_shots)\n",
    "    else:\n",
    "        print(\"Designate Twin-linking with Y or N. Assumed to be off.\")\n",
    "        shots = DiceRoller(n_shots)\n",
    "\n",
    "    hits = np.sum(shots.__ge__(7-BS))\n",
    "    return shots,hits\n",
    "\n",
    "def Wounding(strength,toughness,save,n_hits,woundspermodel,auto,rend):\n",
    "    try:\n",
    "        toughness = int(toughness)\n",
    "    except ValueError:\n",
    "        print(\"Target toughness needs to be an integer\")\n",
    "    try:\n",
    "        save = int(save)\n",
    "    except ValueError:\n",
    "        print(\"Save needs to be an integer (e.g. 3+ = 3)\")\n",
    "    try:\n",
    "        n_hits = int(n_hits)\n",
    "    except ValueError:\n",
    "        print(\"The number of hits needs to be an integer\")\n",
    "    if strength == \"D\":\n",
    "        pass\n",
    "    elif strength == \"D-1\":\n",
    "        pass\n",
    "    else:\n",
    "        try:\n",
    "            strength = int(strength)\n",
    "        except ValueError:\n",
    "            print(\"Strength must be an integer or D\")\n",
    "\n",
    "    woundrolls = DiceRoller(n_hits)\n",
    "    if rend ==1:\n",
    "        auto == 1\n",
    "    else:\n",
    "        pass\n",
    "    \n",
    "    if auto == 0:\n",
    "        if strength == \"D\":\n",
    "            NoSaveD = np.sum(woundrolls==6)\n",
    "            SaveD = np.sum(1<woundrolls) - NoSaveD\n",
    "            saverolls = DiceRoller(SaveD)\n",
    "            unsaved = np.sum(saverolls<save)\n",
    "            unsaved_expanded = 0\n",
    "            for k in range(unsaved):\n",
    "                unsaved_expanded = unsaved_expanded + min(woundspermodel,rand.randint(1,3))\n",
    "            for j in range(NoSaveD):\n",
    "                unsaved_expanded = unsaved_expanded + min(woundspermodel,(rand.randint(1,6)+6))\n",
    "            finalwounds = unsaved_expanded\n",
    "        elif strength == \"D-1\":\n",
    "            SaveD = np.sum(2<woundrolls)\n",
    "            saverolls = DiceRoller(SaveD)\n",
    "            unsaved = np.sum(saverolls<save)\n",
    "            unsaved_expanded = 0\n",
    "            for k in range(unsaved):\n",
    "                unsaved_expanded = unsaved_expanded + min(woundspermodel,rand.randint(1,3))\n",
    "            finalwounds = unsaved_expanded\n",
    "        \n",
    "        else:\n",
    "            SvTDiff = strength-toughness\n",
    "            ToWound = max(2,4-SvTDiff)\n",
    "            wounds = np.sum(woundrolls.__ge__(ToWound))\n",
    "            saverolls = DiceRoller(wounds)\n",
    "            unsaved = np.sum(saverolls<(save))\n",
    "            finalwounds = unsaved\n",
    "            \n",
    "    else:\n",
    "        if strength == \"D\":\n",
    "            NoSaveD = np.sum(woundrolls==6)\n",
    "            SaveD = np.sum(1<woundrolls) - NoSaveD\n",
    "            saverolls = DiceRoller(SaveD)\n",
    "            unsaved = np.sum(saverolls<save)\n",
    "            unsaved_expanded = 0\n",
    "            for k in range(unsaved):\n",
    "                unsaved_expanded = unsaved_expanded + min(woundspermodel,rand.randint(1,3))\n",
    "            for j in range(NoSaveD):\n",
    "                unsaved_expanded = unsaved_expanded + min(woundspermodel,(rand.randint(1,6)+6))\n",
    "            finalwounds = unsaved_expanded\n",
    "        elif strength == \"D-1\":\n",
    "            SaveD = np.sum(2<woundrolls)\n",
    "            saverolls = DiceRoller(SaveD)\n",
    "            unsaved = np.sum(saverolls<save)\n",
    "            unsaved_expanded = 0\n",
    "            for k in range(unsaved):\n",
    "                unsaved_expanded = unsaved_expanded + min(woundspermodel,rand.randint(1,3))\n",
    "            finalwounds = unsaved_expanded\n",
    "        \n",
    "        else:\n",
    "            SvTDiff = strength-toughness\n",
    "            autowounds = np.sum(woundrolls>=auto)\n",
    "            if rend == 1:\n",
    "                rends = np.sum(woundrolls>=6)\n",
    "            else:\n",
    "                rends = 0  \n",
    "            ToWound = max(2,4-SvTDiff)\n",
    "            wounds = np.sum(woundrolls.__ge__(ToWound))\n",
    "            if ToWound > 6:\n",
    "                truewounds = autowounds\n",
    "            else:\n",
    "                truewounds = wounds\n",
    "            saverolls = DiceRoller(truewounds-rends)\n",
    "            if rend == 0:\n",
    "                unsaved = np.sum(saverolls<(save))\n",
    "            else:\n",
    "                unsaved = np.sum(saverolls<(save)+rends)\n",
    "            finalwounds = unsaved\n",
    "        \n",
    "    return finalwounds"
   ]
  },
  {
   "cell_type": "code",
   "execution_count": 16,
   "metadata": {
    "collapsed": false
   },
   "outputs": [
    {
     "name": "stderr",
     "output_type": "stream",
     "text": [
      "/Users/elofgren/anaconda/lib/python2.7/site-packages/ipykernel/__main__.py:6: DeprecationWarning: using a non-integer number instead of an integer will result in an error in the future\n"
     ]
    },
    {
     "data": {
      "text/plain": [
       "<matplotlib.text.Text at 0x119239050>"
      ]
     },
     "execution_count": 16,
     "metadata": {},
     "output_type": "execute_result"
    },
    {
     "data": {
      "image/png": "[encoded data removed]",
      "text/plain": [
       "<matplotlib.figure.Figure at 0x1188af8d0>"
      ]
     },
     "metadata": {},
     "output_type": "display_data"
    }
   ],
   "source": [
    "def BoltersVWG():\n",
    "    BolterShots = Shooting(4,20,'N')[1]\n",
    "    BolterWounds = Wounding(4,4,2,BolterShots,1,rend=0,auto=0)\n",
    "    return float(BolterWounds)\n",
    "\n",
    "def BoltersVWulfen():\n",
    "    BolterShots = Shooting(4,20,'N')[1]\n",
    "    BolterWounds = Wounding(4,4,3,BolterShots,2,rend=0,auto=0)\n",
    "    return float(BolterWounds)\n",
    "\n",
    "def BoltersVTW():\n",
    "    BolterShots = Shooting(4,20,'N')[1]\n",
    "    BolterWounds = Wounding(4,5,3,BolterShots,2,rend=0,auto=0)\n",
    "    return float(BolterWounds)\n",
    "\n",
    "bolters = np.empty([runs,3])\n",
    "\n",
    "for e in range(runs):\n",
    "    bolters[e][0] = BoltersVWG()*33\n",
    "    bolters[e][1] = BoltersVWulfen()*30\n",
    "    bolters[e][2] = BoltersVTW()*40\n",
    "\n",
    "plt.hist(bolters[:,0],bins=10,alpha=0.50,color=\"DarkViolet\")\n",
    "plt.hist(bolters[:,1],bins=10,alpha=0.50,color=\"DeepSkyBlue\")\n",
    "plt.hist(bolters[:,2],bins=10,alpha=0.50,color=\"DarkGreen\")\n",
    "plt.xlabel(\"Points of Models Removed\")\n",
    "plt.ylabel(\"Number of Simulated Games\")  "
   ]
  },
  {
   "cell_type": "code",
   "execution_count": 22,
   "metadata": {
    "collapsed": false
   },
   "outputs": [
    {
     "name": "stderr",
     "output_type": "stream",
     "text": [
      "/Users/elofgren/anaconda/lib/python2.7/site-packages/ipykernel/__main__.py:6: DeprecationWarning: using a non-integer number instead of an integer will result in an error in the future\n"
     ]
    },
    {
     "data": {
      "text/plain": [
       "<matplotlib.text.Text at 0x119518490>"
      ]
     },
     "execution_count": 22,
     "metadata": {},
     "output_type": "execute_result"
    },
    {
     "data": {
      "image/png": "[encoded data removed]",
      "text/plain": [
       "<matplotlib.figure.Figure at 0x11adb4310>"
      ]
     },
     "metadata": {},
     "output_type": "display_data"
    }
   ],
   "source": [
    "def PulseVWG():\n",
    "    PulseShots = Shooting(4,4,'N')[1]\n",
    "    PulseWounds = Wounding(8,4,3,PulseShots,1,rend=0,auto=0)\n",
    "    return float(PulseWounds)\n",
    "\n",
    "def PulseVWulfen():\n",
    "    PulseShots = Shooting(4,4,'N')[1]\n",
    "    PulseWounds = Wounding(8,4,3,PulseShots,1,rend=0,auto=0)\n",
    "    return float(PulseWounds)\n",
    "\n",
    "def PulseVTW():\n",
    "    PulseShots = Shooting(4,4,'N')[1]\n",
    "    PulseWounds = Wounding(8,5,3,PulseShots,2,rend=0,auto=0)\n",
    "    return float(PulseWounds)\n",
    "\n",
    "pulse = np.empty([runs,3])\n",
    "\n",
    "for f in range(runs):\n",
    "    pulse[f][0] = PulseVWG()*48\n",
    "    pulse[f][1] = PulseVWulfen()*50\n",
    "    pulse[f][2] = PulseVTW()*85\n",
    "\n",
    "plt.hist(pulse[:,0],bins=10,alpha=0.50,color=\"DarkViolet\")\n",
    "plt.hist(pulse[:,1],bins=10,alpha=0.50,color=\"DeepSkyBlue\")\n",
    "plt.hist(pulse[:,2],bins=10,alpha=0.50,color=\"DarkGreen\")\n",
    "plt.xlabel(\"Points of Models Removed\")\n",
    "plt.ylabel(\"Number of Simulated Games\") "
   ]
  },
  {
   "cell_type": "code",
   "execution_count": 27,
   "metadata": {
    "collapsed": true
   },
   "outputs": [],
   "source": [
    "def Melee(toHit, attacks, reroll):\n",
    "    try:\n",
    "        toHit = int(toHit)\n",
    "    except ValueError:\n",
    "        print(\"toHit needs to be an integer\")\n",
    "    try:\n",
    "        attacks = int(attacks)\n",
    "    except ValueError:\n",
    "        print(\"Number of attacks needs to be an integer\")\n",
    "    if reroll == \"Y\":\n",
    "        swings = DiceRoller(attacks)\n",
    "        swings[swings < toHit] = rand.randint(1,6)\n",
    "    elif reroll ==\"N\":\n",
    "        swings = DiceRoller(attacks)\n",
    "    else:\n",
    "        print(\"Designate Re-roll with Y or N. Assumed to be off.\")\n",
    "        swings = DiceRoller(attacks)\n",
    "\n",
    "    hits = np.sum(swings.__ge__(toHit))\n",
    "    return swings,hits"
   ]
  },
  {
   "cell_type": "code",
   "execution_count": 69,
   "metadata": {
    "collapsed": false
   },
   "outputs": [
    {
     "name": "stderr",
     "output_type": "stream",
     "text": [
      "/Users/elofgren/anaconda/lib/python2.7/site-packages/ipykernel/__main__.py:6: DeprecationWarning: using a non-integer number instead of an integer will result in an error in the future\n"
     ]
    },
    {
     "data": {
      "text/plain": [
       "<matplotlib.text.Text at 0x11d601bd0>"
      ]
     },
     "execution_count": 69,
     "metadata": {},
     "output_type": "execute_result"
    },
    {
     "data": {
      "image/png": "[encoded data removed]",
      "text/plain": [
       "<matplotlib.figure.Figure at 0x11bf28750>"
      ]
     },
     "metadata": {},
     "output_type": "display_data"
    }
   ],
   "source": [
    "meleeMEQ = np.empty([runs,4])\n",
    "\n",
    "def WGTCC():\n",
    "    CChits = Melee(4,3,\"N\")[1]\n",
    "    CCWounds = Wounding(8,4,7,CChits,1,rend=0,auto=0)\n",
    "    return float(CCWounds)\n",
    "\n",
    "def WulfenCC():\n",
    "    CChits = Melee(4,5,\"N\")[1]\n",
    "    CCWounds = Wounding(10,4,7,CChits,1,rend=0,auto=0)\n",
    "    return float(CCWounds)\n",
    "\n",
    "def DeadWulfenCC():\n",
    "    CChits = Melee(4,10,\"N\")[1]\n",
    "    CCWounds = Wounding(10,4,7,CChits,1,rend=0,auto=0)\n",
    "    return float(CCWounds)\n",
    "\n",
    "def TWolfCC():\n",
    "    CChits = Melee(4,5,\"N\")[1]\n",
    "    CCWounds = Wounding(10,4,7,CChits,1,rend=0,auto=0)\n",
    "    return float(CCWounds)\n",
    "\n",
    "for g in range(runs):\n",
    "    meleeMEQ[g][0] = WGTCC()/48\n",
    "    meleeMEQ[g][1] = WulfenCC()/50\n",
    "    meleeMEQ[g][2] = TWolfCC()/85\n",
    "    meleeMEQ[g][3] = DeadWulfenCC()/50\n",
    "\n",
    "plt.hist(meleeMEQ[:,0],bins=6,alpha=0.50,color=\"DarkViolet\")\n",
    "plt.hist(meleeMEQ[:,1],bins=6,alpha=0.50,color=\"DeepSkyBlue\")\n",
    "plt.hist(meleeMEQ[:,2],bins=6,alpha=0.50,color=\"DarkGreen\")\n",
    "plt.xlabel(\"MEQ Kills per Point\")\n",
    "plt.ylabel(\"Number of Simulated Games\") "
   ]
  },
  {
   "cell_type": "code",
   "execution_count": 68,
   "metadata": {
    "collapsed": false
   },
   "outputs": [
    {
     "data": {
      "text/plain": [
       "<matplotlib.text.Text at 0x11bc74250>"
      ]
     },
     "execution_count": 68,
     "metadata": {},
     "output_type": "execute_result"
    },
    {
     "data": {
      "image/png": "[encoded data removed]",
      "text/plain": [
       "<matplotlib.figure.Figure at 0x11c228250>"
      ]
     },
     "metadata": {},
     "output_type": "display_data"
    }
   ],
   "source": [
    "plt.hist(meleeMEQ[:,1],bins=6,alpha=0.50,color=\"DeepSkyBlue\")\n",
    "plt.hist(meleeMEQ[:,3],bins=10,alpha=0.50,color=\"Red\")\n",
    "plt.xlabel(\"MEQ Kills per Point\")\n",
    "plt.ylabel(\"Number of Simulated Games\") "
   ]
  },
  {
   "cell_type": "code",
   "execution_count": null,
   "metadata": {
    "collapsed": true
   },
   "outputs": [],
   "source": []
  },
  {
   "cell_type": "code",
   "execution_count": null,
   "metadata": {
    "collapsed": true
   },
   "outputs": [],
   "source": []
  },
  {
   "cell_type": "code",
   "execution_count": null,
   "metadata": {
    "collapsed": true
   },
   "outputs": [],
   "source": []
  },
  {
   "cell_type": "code",
   "execution_count": null,
   "metadata": {
    "collapsed": true
   },
   "outputs": [],
   "source": [
    "dthreat = np.empty([runs,2])\n",
    "\n",
    "def WrathMoveShoot():\n",
    "    # 6\" move + d6 Run + 12\" range Wrathcannon\n",
    "    distance = 6 + 12 + rand.randint(1,6)\n",
    "    return distance\n",
    "\n",
    "def KnightMoveCharge():\n",
    "    # 12\" move + 2d6 Charge\n",
    "    distance = 12 + rand.randint(1,6) + rand.randint(1,6)\n",
    "    return distance\n",
    "\n",
    "for d in range(runs):\n",
    "    dthreat[d][0] = WrathMoveShoot()\n",
    "    dthreat[d][1] = KnightMoveCharge()\n",
    "\n",
    "plt.hist(dthreat[:,0],bins=10,alpha=0.50,color=\"DarkViolet\")\n",
    "plt.hist(dthreat[:,1],bins=10,alpha=0.50,color=\"DeepSkyBlue\")\n",
    "plt.xlabel(\"Strength D Threat Range\")\n",
    "plt.ylabel(\"Number of Simulated Games\")\n",
    "    \n",
    "    \n"
   ]
  },
  {
   "cell_type": "code",
   "execution_count": null,
   "metadata": {
    "collapsed": true
   },
   "outputs": [],
   "source": [
    "def Shooting(BS, n_shots, twinlinked):\n",
    "    try:\n",
    "        BS = int(BS)\n",
    "    except ValueError:\n",
    "        print(\"BS needs to be an integer\")\n",
    "    try:\n",
    "        n_shots = int(n_shots)\n",
    "    except ValueError:\n",
    "        print(\"Number of shots needs to be an integer\")\n",
    "    if twinlinked == \"Y\":\n",
    "        shots = DiceRoller(n_shots)\n",
    "        shots[shots > BS] = rand.randint(1,6)\n",
    "    elif twinlinked ==\"N\":\n",
    "        shots = DiceRoller(n_shots)\n",
    "    else:\n",
    "        print(\"Designate Twin-linking with Y or N. Assumed to be off.\")\n",
    "        shots = DiceRoller(n_shots)\n",
    "\n",
    "    hits = np.sum(shots.__ge__(7-BS))\n",
    "    return shots,hits"
   ]
  },
  {
   "cell_type": "code",
   "execution_count": null,
   "metadata": {
    "collapsed": false
   },
   "outputs": [],
   "source": [
    "# SAVE MUST BE MANUALLY SET - NOT AUTO-DETERMINED BY Save vs. AP\n",
    "def Wounding(strength,toughness,save,n_hits,woundspermodel,auto,rend):\n",
    "    try:\n",
    "        toughness = int(toughness)\n",
    "    except ValueError:\n",
    "        print(\"Target toughness needs to be an integer\")\n",
    "    try:\n",
    "        save = int(save)\n",
    "    except ValueError:\n",
    "        print(\"Save needs to be an integer (e.g. 3+ = 3)\")\n",
    "    try:\n",
    "        n_hits = int(n_hits)\n",
    "    except ValueError:\n",
    "        print(\"The number of hits needs to be an integer\")\n",
    "    if strength == \"D\":\n",
    "        pass\n",
    "    elif strength == \"D-1\":\n",
    "        pass\n",
    "    else:\n",
    "        try:\n",
    "            strength = int(strength)\n",
    "        except ValueError:\n",
    "            print(\"Strength must be an integer or D\")\n",
    "\n",
    "    woundrolls = DiceRoller(n_hits)\n",
    "    if rend ==1:\n",
    "        auto == 1\n",
    "    else:\n",
    "        pass\n",
    "    \n",
    "    if auto == 0:\n",
    "        if strength == \"D\":\n",
    "            NoSaveD = np.sum(woundrolls==6)\n",
    "            SaveD = np.sum(1<woundrolls) - NoSaveD\n",
    "            saverolls = DiceRoller(SaveD)\n",
    "            unsaved = np.sum(saverolls<save)\n",
    "            unsaved_expanded = 0\n",
    "            for k in range(unsaved):\n",
    "                unsaved_expanded = unsaved_expanded + min(woundspermodel,rand.randint(1,3))\n",
    "            for j in range(NoSaveD):\n",
    "                unsaved_expanded = unsaved_expanded + min(woundspermodel,(rand.randint(1,6)+6))\n",
    "            finalwounds = unsaved_expanded\n",
    "        elif strength == \"D-1\":\n",
    "            SaveD = np.sum(2<woundrolls)\n",
    "            saverolls = DiceRoller(SaveD)\n",
    "            unsaved = np.sum(saverolls<save)\n",
    "            unsaved_expanded = 0\n",
    "            for k in range(unsaved):\n",
    "                unsaved_expanded = unsaved_expanded + min(woundspermodel,rand.randint(1,3))\n",
    "            finalwounds = unsaved_expanded\n",
    "        \n",
    "        else:\n",
    "            SvTDiff = strength-toughness\n",
    "            ToWound = max(2,4-SvTDiff)\n",
    "            wounds = np.sum(woundrolls.__ge__(ToWound))\n",
    "            saverolls = DiceRoller(wounds)\n",
    "            unsaved = np.sum(saverolls<(save))\n",
    "            finalwounds = unsaved\n",
    "            \n",
    "    else:\n",
    "        if strength == \"D\":\n",
    "            NoSaveD = np.sum(woundrolls==6)\n",
    "            SaveD = np.sum(1<woundrolls) - NoSaveD\n",
    "            saverolls = DiceRoller(SaveD)\n",
    "            unsaved = np.sum(saverolls<save)\n",
    "            unsaved_expanded = 0\n",
    "            for k in range(unsaved):\n",
    "                unsaved_expanded = unsaved_expanded + min(woundspermodel,rand.randint(1,3))\n",
    "            for j in range(NoSaveD):\n",
    "                unsaved_expanded = unsaved_expanded + min(woundspermodel,(rand.randint(1,6)+6))\n",
    "            finalwounds = unsaved_expanded\n",
    "        elif strength == \"D-1\":\n",
    "            SaveD = np.sum(2<woundrolls)\n",
    "            saverolls = DiceRoller(SaveD)\n",
    "            unsaved = np.sum(saverolls<save)\n",
    "            unsaved_expanded = 0\n",
    "            for k in range(unsaved):\n",
    "                unsaved_expanded = unsaved_expanded + min(woundspermodel,rand.randint(1,3))\n",
    "            finalwounds = unsaved_expanded\n",
    "        \n",
    "        else:\n",
    "            SvTDiff = strength-toughness\n",
    "            autowounds = np.sum(woundrolls>=auto)\n",
    "            if rend == 1:\n",
    "                rends = np.sum(woundrolls>=6)\n",
    "            else:\n",
    "                rends = 0  \n",
    "            ToWound = max(2,4-SvTDiff)\n",
    "            wounds = np.sum(woundrolls.__ge__(ToWound))\n",
    "            if ToWound > 6:\n",
    "                truewounds = autowounds\n",
    "            else:\n",
    "                truewounds = wounds\n",
    "            saverolls = DiceRoller(truewounds-rends)\n",
    "            if rend == 0:\n",
    "                unsaved = np.sum(saverolls<(save))\n",
    "            else:\n",
    "                unsaved = np.sum(saverolls<(save)+rends)\n",
    "            finalwounds = unsaved\n",
    "        \n",
    "    return finalwounds\n",
    "\n",
    "def ArmorPen(strength,AV,save,n_hits,hullpoints):\n",
    "    try:\n",
    "        AV = int(AV)\n",
    "    except ValueError:\n",
    "        print(\"Target Armor Value needs to be an integer\")\n",
    "    try:\n",
    "        save = int(save)\n",
    "    except ValueError:\n",
    "        print(\"Save needs to be an integer (e.g. 3+ = 3)\")\n",
    "    try:\n",
    "        n_hits = int(n_hits)\n",
    "    except ValueError:\n",
    "        print(\"The number of hits needs to be an integer\")\n",
    "    if strength == \"D\":\n",
    "        pass\n",
    "    else:\n",
    "        try:\n",
    "            strength = int(strength)\n",
    "        except ValueError:\n",
    "            print(\"Strength must be an integer or D\")\n",
    "    \n",
    "    if strength == \"D\":\n",
    "        penrolls = DiceRoller(n_hits)\n",
    "        NoSaveD = np.sum(penrolls==6)\n",
    "        SaveD = np.sum(1<penrolls) - NoSaveD\n",
    "        saverolls = DiceRoller(SaveD)\n",
    "        unsaved = np.sum(saverolls<save)\n",
    "        unsaved_expanded = 0\n",
    "        for k in range(unsaved):\n",
    "            unsaved_expanded = unsaved_expanded + min(hullpoints,rand.randint(1,3))\n",
    "        for j in range(NoSaveD):\n",
    "            unsaved_expanded = unsaved_expanded + min(hullpoints,(rand.randint(1,6)+6))\n",
    "        final = min(hullpoints,unsaved_expanded)\n",
    "    else:\n",
    "        penrolls = DiceRoller(n_hits) + strength\n",
    "        pen_and_glance = np.sum(penrolls.__ge__(AV))\n",
    "        glances = np.sum(penrolls==AV)\n",
    "        pens = pen_and_glance - glances\n",
    "        saverolls = DiceRoller(pen_and_glance)\n",
    "        unsaved = np.sum(saverolls<(save))\n",
    "        final = min(hullpoints,unsaved)\n",
    "        \n",
    "    return final\n",
    "\n",
    "def ArmorBane(strength,AV,save,n_hits,hullpoints):\n",
    "    try:\n",
    "        AV = int(AV)\n",
    "    except ValueError:\n",
    "        print(\"Target Armor Value needs to be an integer\")\n",
    "    try:\n",
    "        save = int(save)\n",
    "    except ValueError:\n",
    "        print(\"Save needs to be an integer (e.g. 3+ = 3)\")\n",
    "    try:\n",
    "        n_hits = int(n_hits)\n",
    "    except ValueError:\n",
    "        print(\"The number of hits needs to be an integer\")\n",
    "    if strength == \"D\":\n",
    "        pass\n",
    "    else:\n",
    "        try:\n",
    "            strength = int(strength)\n",
    "        except ValueError:\n",
    "            print(\"Strength must be an integer or D\")\n",
    "    \n",
    "    if strength == \"D\":\n",
    "        penrolls = DiceRoller(n_hits)\n",
    "        NoSaveD = np.sum(penrolls==6)\n",
    "        SaveD = np.sum(1<penrolls) - NoSaveD\n",
    "        saverolls = DiceRoller(SaveD)\n",
    "        unsaved = np.sum(saverolls<save)\n",
    "        unsaved_expanded = 0\n",
    "        for k in range(unsaved):\n",
    "            unsaved_expanded = unsaved_expanded + min(hullpoints,rand.randint(1,3))\n",
    "        for j in range(NoSaveD):\n",
    "            unsaved_expanded = unsaved_expanded + min(hullpoints,(rand.randint(1,6)+6))\n",
    "        final = min(hullpoints,unsaved_expanded)\n",
    "    else:\n",
    "        penrolls = DiceRoller(n_hits) + DiceRoller(n_hits) + strength\n",
    "        pen_and_glance = np.sum(penrolls.__ge__(AV))\n",
    "        glances = np.sum(penrolls==AV)\n",
    "        pens = pen_and_glance - glances\n",
    "        saverolls = DiceRoller(pen_and_glance)\n",
    "        unsaved = np.sum(saverolls<(save))\n",
    "        final = min(hullpoints,unsaved)\n",
    "        \n",
    "    return final"
   ]
  },
  {
   "cell_type": "code",
   "execution_count": null,
   "metadata": {
    "collapsed": true
   },
   "outputs": [],
   "source": [
    "sns.set_palette(\"deep\", desat=.6)\n",
    "sns.set_context(rc={\"figure.figsize\": (8, 4)})\n",
    "runs = 10000"
   ]
  },
  {
   "cell_type": "markdown",
   "metadata": {},
   "source": [
    "Wound Analysis: Scouts vs. Tactical Marines"
   ]
  },
  {
   "cell_type": "code",
   "execution_count": null,
   "metadata": {
    "collapsed": false
   },
   "outputs": [],
   "source": [
    "def ScoutsTakingFire():\n",
    "    Shots = Shooting(4,20,'N')[1]\n",
    "    Wounds = Wounding(4,4,4,Shots,1,auto=0,rend=0)\n",
    "    return Wounds\n",
    "\n",
    "def MarinesTakingFire():\n",
    "    Shots = Shooting(4,20,'N')[1]\n",
    "    Wounds = Wounding(4,4,3,Shots,1,auto=0,rend=0)\n",
    "    return Wounds\n",
    "\n",
    "no_cover = np.empty([runs,2])\n",
    "for i in range(runs):\n",
    "    no_cover[i][0] = ScoutsTakingFire()*11\n",
    "    no_cover[i][1] = MarinesTakingFire()*14\n",
    "\n",
    "plt.hist(no_cover[:,0],alpha=0.50,color=\"DarkViolet\",histtype=\"stepfilled\")\n",
    "plt.hist(no_cover[:,1],alpha=0.50,color=\"DeepSkyBlue\",histtype=\"stepfilled\")\n",
    "plt.xlabel(\"Points Lost\")\n",
    "plt.ylabel(\"Number of Simulated Games\")"
   ]
  },
  {
   "cell_type": "markdown",
   "metadata": {
    "collapsed": true
   },
   "source": [
    "Wound Analysis: Scouts vs. Sisters of Battle"
   ]
  },
  {
   "cell_type": "code",
   "execution_count": null,
   "metadata": {
    "collapsed": false
   },
   "outputs": [],
   "source": [
    "def SistersTakingFire():\n",
    "    Shots = Shooting(4,20,'N')[1]\n",
    "    Wounds = Wounding(4,3,3,Shots,1,auto=0,rend=0)\n",
    "    return Wounds\n",
    "\n",
    "sisvscout = np.empty([runs,2])\n",
    "for i in range(runs):\n",
    "    sisvscout[i][0] = ScoutsTakingFire()*11\n",
    "    sisvscout[i][1] = SistersTakingFire()*12\n",
    "\n",
    "plt.hist(sisvscout[:,0],alpha=0.50,color=\"DarkViolet\",histtype=\"stepfilled\")\n",
    "plt.hist(sisvscout[:,1],alpha=0.50,color=\"DeepSkyBlue\",histtype=\"stepfilled\")\n",
    "plt.xlabel(\"Points Lost\")\n",
    "plt.ylabel(\"Number of Simulated Games\")"
   ]
  },
  {
   "cell_type": "markdown",
   "metadata": {
    "collapsed": true
   },
   "source": [
    "Just how nasty are Repentia?"
   ]
  },
  {
   "cell_type": "code",
   "execution_count": null,
   "metadata": {
    "collapsed": true
   },
   "outputs": [],
   "source": [
    "def Repentia():\n",
    "    RepentiaAttacks = Shooting(3,(4*4),'N')[1]\n",
    "    RepentiaGorP = ArmorBane(6,13,7,RepentiaAttacks,11)\n",
    "    return RepentiaGorP"
   ]
  },
  {
   "cell_type": "code",
   "execution_count": null,
   "metadata": {
    "collapsed": false
   },
   "outputs": [],
   "source": [
    "RepentiavAv13 = np.empty([runs,1])\n",
    "\n",
    "for r in range(runs):\n",
    "    RepentiavAv13[r][0] = Repentia()"
   ]
  },
  {
   "cell_type": "code",
   "execution_count": null,
   "metadata": {
    "collapsed": false
   },
   "outputs": [],
   "source": [
    "plt.hist(RepentiavAv13[:,0],alpha=0.50,color=\"DarkViolet\",histtype=\"stepfilled\")\n",
    "plt.xlabel(\"Glances or Pens vs. AV 13\")\n",
    "plt.ylabel(\"Number of Simulated Games\")"
   ]
  },
  {
   "cell_type": "code",
   "execution_count": null,
   "metadata": {
    "collapsed": true
   },
   "outputs": [],
   "source": []
  }
 ],
 "metadata": {
  "kernelspec": {
   "display_name": "Python 2",
   "language": "python",
   "name": "python2"
  },
  "language_info": {
   "codemirror_mode": {
    "name": "ipython",
    "version": 2
   },
   "file_extension": ".py",
   "mimetype": "text/x-python",
   "name": "python",
   "nbconvert_exporter": "python",
   "pygments_lexer": "ipython2",
   "version": "2.7.11"
  }
 },
 "nbformat": 4,
 "nbformat_minor": 0
}
