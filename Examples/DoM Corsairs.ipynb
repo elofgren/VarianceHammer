{
 "cells": [
  {
   "cell_type": "markdown",
   "metadata": {},
   "source": [
    "Code for Variance Hammer's Doom of Mymeara Review\n",
    "===\n",
    "This code is for Variance Hammer's analysis of the *Doom of Mymeara*, particularly the weapons choices available for most Corsair infanty units. The text of the review itself is at: http://www.variancehammer.com/ . Note that because this analysis uses random numbers, any results you obtain may differ from those on the blog posting due to random chance."
   ]
  },
  {
   "cell_type": "markdown",
   "metadata": {},
   "source": [
    "**Import the necessary libraries**\n",
    "These are easily obtained using the Anaconda Python Distribution, which is available free from http://www.continuum.io"
   ]
  },
  {
   "cell_type": "code",
   "execution_count": 118,
   "metadata": {
    "collapsed": false
   },
   "outputs": [],
   "source": [
    "%matplotlib inline\n",
    "import numpy as np\n",
    "import random as rand\n",
    "import seaborn as sns\n",
    "import matplotlib as mpl\n",
    "import matplotlib.pyplot as plt"
   ]
  },
  {
   "cell_type": "markdown",
   "metadata": {},
   "source": [
    "As there is no Variance Hammer library available (yet), we need to define a couple useful functions. DiceRoller() is a function to roll an arbitrary number of d6 dice. Shooting() does what it says on the tin - it takes a number of shots, rolls the appropriate number of d6 dice, checks those results against Ballistic Skill, and if the shots are twin-linked, rerolls as appropriate. Note that at the moment this function does not work for BS values above 6."
   ]
  },
  {
   "cell_type": "code",
   "execution_count": 119,
   "metadata": {
    "collapsed": true
   },
   "outputs": [],
   "source": [
    "def DiceRoller(n_rolls):\n",
    "\ttry:\n",
    "\t\tdice = int(n_rolls)\n",
    "\texcept ValueError:\n",
    "\t\tprint(\"Number of dice to roll needs to be an integer\")\n",
    "\trolls = np.random.random_integers(6, size=(1.,dice))\n",
    "\treturn rolls"
   ]
  },
  {
   "cell_type": "code",
   "execution_count": 120,
   "metadata": {
    "collapsed": true
   },
   "outputs": [],
   "source": [
    "def Shooting(BS, n_shots, twinlinked):\n",
    "    try:\n",
    "        BS = int(BS)\n",
    "    except ValueError:\n",
    "        print(\"BS needs to be an integer\")\n",
    "    try:\n",
    "        n_shots = int(n_shots)\n",
    "    except ValueError:\n",
    "        print(\"Number of shots needs to be an integer\")\n",
    "    if twinlinked == \"Y\":\n",
    "        shots = DiceRoller(n_shots)\n",
    "        shots[shots < (7-BS)] = rand.randint(1,6)\n",
    "    elif twinlinked ==\"N\":\n",
    "        shots = DiceRoller(n_shots)\n",
    "    else:\n",
    "        print(\"Designate Twin-linking with Y or N. Assumed to be off.\")\n",
    "        shots = DiceRoller(n_shots)\n",
    "\n",
    "    hits = np.sum(shots.__ge__(7-BS))\n",
    "    return shots,hits"
   ]
  },
  {
   "cell_type": "code",
   "execution_count": 130,
   "metadata": {
    "collapsed": true
   },
   "outputs": [],
   "source": [
    "def Wounding(strength,toughness,save,n_hits,woundspermodel,auto,rend):\n",
    "    try:\n",
    "        toughness = int(toughness)\n",
    "    except ValueError:\n",
    "        print(\"Target toughness needs to be an integer\")\n",
    "    try:\n",
    "        save = int(save)\n",
    "    except ValueError:\n",
    "        print(\"Save needs to be an integer (e.g. 3+ = 3)\")\n",
    "    try:\n",
    "        n_hits = int(n_hits)\n",
    "    except ValueError:\n",
    "        print(\"The number of hits needs to be an integer\")\n",
    "    if strength == \"D\":\n",
    "        pass\n",
    "    elif strength == \"D-1\":\n",
    "        pass\n",
    "    else:\n",
    "        try:\n",
    "            strength = int(strength)\n",
    "        except ValueError:\n",
    "            print(\"Strength must be an integer or D\")\n",
    "\n",
    "    woundrolls = DiceRoller(n_hits)\n",
    "    if rend ==1:\n",
    "        auto == 6\n",
    "    else:\n",
    "        pass\n",
    "    \n",
    "    if auto == 0:\n",
    "        SvTDiff = strength-toughness\n",
    "        ToWound = max(2,4-SvTDiff)\n",
    "        wounds = np.sum(woundrolls.__ge__(ToWound))\n",
    "        saverolls = DiceRoller(wounds)\n",
    "        unsaved = np.sum(saverolls<(save))\n",
    "        finalwounds = unsaved\n",
    "            \n",
    "    else:\n",
    "        SvTDiff = strength-toughness\n",
    "        autowounds = np.sum(woundrolls>=auto)\n",
    "        if rend == 1:\n",
    "            rends = np.sum(woundrolls>=6)\n",
    "        else:\n",
    "            rends = 0  \n",
    "        ToWound = max(2,4-SvTDiff)\n",
    "        wounds = np.sum(woundrolls.__ge__(ToWound))\n",
    "        if ToWound > 6:\n",
    "            truewounds = autowounds\n",
    "        else:\n",
    "            truewounds = wounds\n",
    "        saverolls = DiceRoller(truewounds-rends)\n",
    "        if rend == 0:\n",
    "            unsaved = np.sum(saverolls<(save))\n",
    "        else:\n",
    "            unsaved = np.sum(saverolls<(save))+rends\n",
    "        finalwounds = unsaved\n",
    "        \n",
    "    return finalwounds"
   ]
  },
  {
   "cell_type": "code",
   "execution_count": 131,
   "metadata": {
    "collapsed": true
   },
   "outputs": [],
   "source": [
    "sns.set_palette(\"deep\", desat=.6)\n",
    "sns.set_context(rc={\"figure.figsize\": (8, 4)})\n",
    "runs = 2500"
   ]
  },
  {
   "cell_type": "code",
   "execution_count": 132,
   "metadata": {
    "collapsed": false
   },
   "outputs": [
    {
     "name": "stderr",
     "output_type": "stream",
     "text": [
      "/Users/elofgren/anaconda/lib/python2.7/site-packages/ipykernel/__main__.py:6: DeprecationWarning: using a non-integer number instead of an integer will result in an error in the future\n"
     ]
    },
    {
     "data": {
      "text/plain": [
       "<matplotlib.text.Text at 0x12210e850>"
      ]
     },
     "execution_count": 132,
     "metadata": {},
     "output_type": "execute_result"
    },
    {
     "data": {
      "image/png": "[encoded data removed]",
      "text/plain": [
       "<matplotlib.figure.Figure at 0x121de0bd0>"
      ]
     },
     "metadata": {},
     "output_type": "display_data"
    }
   ],
   "source": [
    "# def Shooting(BS, n_shots, twinlinked):\n",
    "# def Wounding(strength,toughness,save,n_hits,woundspermodel,auto,rend):\n",
    "\n",
    "def Lasblaster(save):\n",
    "    Shots = Shooting(4,(3*10),'N')[1]\n",
    "    Wounds = Wounding(3,4,save,Shots,1,rend=0,auto=0)\n",
    "    return Wounds\n",
    "\n",
    "def Splinter(save):\n",
    "    Shots = Shooting(4,(2*10),'N')[1]\n",
    "    Wounds = Wounding(1,4,save,Shots,1,rend=0,auto=4)\n",
    "    return Wounds\n",
    "\n",
    "def Shuriken(save):\n",
    "    Shots = Shooting(4,(2*10),'N')[1]\n",
    "    Wounds = Wounding(4,4,save,Shots,1,rend=1,auto=6)\n",
    "    return Wounds\n",
    "\n",
    "CorsairMEQ = np.empty([runs,3])\n",
    "\n",
    "for i in range(runs):\n",
    "    CorsairMEQ[i][0] = Lasblaster(3)\n",
    "    CorsairMEQ[i][1] = Splinter(3)\n",
    "    CorsairMEQ[i][2] = Shuriken(3)\n",
    "                             \n",
    "plt.hist(CorsairMEQ[:,0],alpha=0.50,color=\"DarkViolet\",histtype=\"stepfilled\")\n",
    "plt.hist(CorsairMEQ[:,1],alpha=0.50,color=\"DeepSkyBlue\")\n",
    "plt.hist(CorsairMEQ[:,2],alpha=0.50,color=\"Green\")\n",
    "plt.xlabel(\"Number of Killed MEQs\")\n",
    "plt.ylabel(\"Number of Simulated Games\")"
   ]
  },
  {
   "cell_type": "code",
   "execution_count": 133,
   "metadata": {
    "collapsed": false
   },
   "outputs": [
    {
     "name": "stderr",
     "output_type": "stream",
     "text": [
      "/Users/elofgren/anaconda/lib/python2.7/site-packages/ipykernel/__main__.py:6: DeprecationWarning: using a non-integer number instead of an integer will result in an error in the future\n"
     ]
    },
    {
     "data": {
      "text/plain": [
       "<matplotlib.text.Text at 0x1225e2310>"
      ]
     },
     "execution_count": 133,
     "metadata": {},
     "output_type": "execute_result"
    },
    {
     "data": {
      "image/png": "[encoded data removed]",
      "text/plain": [
       "<matplotlib.figure.Figure at 0x121de92d0>"
      ]
     },
     "metadata": {},
     "output_type": "display_data"
    }
   ],
   "source": [
    "CorsairTEQ = np.empty([runs,3])\n",
    "\n",
    "for i in range(runs):\n",
    "    CorsairMEQ[i][0] = Lasblaster(2)\n",
    "    CorsairMEQ[i][1] = Splinter(2)\n",
    "    CorsairMEQ[i][2] = Shuriken(2)\n",
    "                             \n",
    "plt.hist(CorsairMEQ[:,0],alpha=0.50,color=\"DarkViolet\",histtype=\"stepfilled\")\n",
    "plt.hist(CorsairMEQ[:,1],alpha=0.50,color=\"DeepSkyBlue\",histtype=\"stepfilled\")\n",
    "plt.hist(CorsairMEQ[:,2],alpha=0.50,color=\"Green\",histtype=\"stepfilled\")\n",
    "plt.xlabel(\"Number of Killed TEQs\")\n",
    "plt.ylabel(\"Number of Simulated Games\")"
   ]
  },
  {
   "cell_type": "code",
   "execution_count": 134,
   "metadata": {
    "collapsed": false
   },
   "outputs": [
    {
     "name": "stderr",
     "output_type": "stream",
     "text": [
      "/Users/elofgren/anaconda/lib/python2.7/site-packages/ipykernel/__main__.py:6: DeprecationWarning: using a non-integer number instead of an integer will result in an error in the future\n"
     ]
    },
    {
     "data": {
      "text/plain": [
       "<matplotlib.text.Text at 0x1226b9e10>"
      ]
     },
     "execution_count": 134,
     "metadata": {},
     "output_type": "execute_result"
    },
    {
     "data": {
      "image/png": "[encoded data removed]",
      "text/plain": [
       "<matplotlib.figure.Figure at 0x121de9850>"
      ]
     },
     "metadata": {},
     "output_type": "display_data"
    }
   ],
   "source": [
    "def Lasblaster2(save):\n",
    "    Shots = Shooting(4,(3*10),'N')[1]\n",
    "    Wounds = Wounding(3,3,save,Shots,1,rend=0,auto=0)\n",
    "    return Wounds\n",
    "\n",
    "def Splinter2(save):\n",
    "    Shots = Shooting(4,(2*10),'N')[1]\n",
    "    Wounds = Wounding(1,3,save,Shots,1,rend=0,auto=4)\n",
    "    return Wounds\n",
    "\n",
    "def Shuriken2(save):\n",
    "    Shots = Shooting(4,(2*10),'N')[1]\n",
    "    Wounds = Wounding(4,3,save,Shots,1,rend=1,auto=6)\n",
    "    return Wounds\n",
    "\n",
    "CorsairGEQ = np.empty([runs,3])\n",
    "\n",
    "for i in range(runs):\n",
    "    CorsairMEQ[i][0] = Lasblaster2(7)\n",
    "    CorsairMEQ[i][1] = Splinter2(7)\n",
    "    CorsairMEQ[i][2] = Shuriken2(7)\n",
    "                             \n",
    "plt.hist(CorsairMEQ[:,0],alpha=0.50,color=\"DarkViolet\",histtype=\"stepfilled\")\n",
    "plt.hist(CorsairMEQ[:,1],alpha=0.50,color=\"DeepSkyBlue\",histtype=\"stepfilled\")\n",
    "plt.hist(CorsairMEQ[:,2],alpha=0.50,color=\"Green\",histtype=\"stepfilled\")\n",
    "plt.xlabel(\"Number of Killed GEQs\")\n",
    "plt.ylabel(\"Number of Simulated Games\")"
   ]
  },
  {
   "cell_type": "code",
   "execution_count": 136,
   "metadata": {
    "collapsed": false,
    "scrolled": true
   },
   "outputs": [
    {
     "name": "stderr",
     "output_type": "stream",
     "text": [
      "/Users/elofgren/anaconda/lib/python2.7/site-packages/ipykernel/__main__.py:6: DeprecationWarning: using a non-integer number instead of an integer will result in an error in the future\n"
     ]
    },
    {
     "data": {
      "text/plain": [
       "<matplotlib.text.Text at 0x12140fe10>"
      ]
     },
     "execution_count": 136,
     "metadata": {},
     "output_type": "execute_result"
    },
    {
     "data": {
      "image/png": "[encoded data removed]",
      "text/plain": [
       "<matplotlib.figure.Figure at 0x1221af7d0>"
      ]
     },
     "metadata": {},
     "output_type": "display_data"
    }
   ],
   "source": [
    "def Lasblaster3(save):\n",
    "    Shots = Shooting(4,(3*10),'N')[1]\n",
    "    Wounds = Wounding(3,7,save,Shots,1,rend=0,auto=0)\n",
    "    return Wounds\n",
    "\n",
    "def Splinter3(save):\n",
    "    Shots = Shooting(4,(2*10),'N')[1]\n",
    "    Wounds = Wounding(1,7,save,Shots,1,rend=0,auto=4)\n",
    "    return Wounds\n",
    "\n",
    "def Shuriken3(save):\n",
    "    Shots = Shooting(4,(2*10),'N')[1]\n",
    "    Wounds = Wounding(4,7,save,Shots,1,rend=1,auto=6)\n",
    "    return Wounds\n",
    "\n",
    "CorsairGEQ = np.empty([runs,3])\n",
    "\n",
    "for n in range(runs):\n",
    "    CorsairGEQ[n][0] = Lasblaster3(2)\n",
    "    CorsairGEQ[n][1] = Splinter3(2)\n",
    "    CorsairGEQ[n][2] = Shuriken3(2)\n",
    "                             \n",
    "plt.hist(CorsairGEQ[:,0],alpha=0.50,color=\"DarkViolet\",histtype=\"stepfilled\")\n",
    "plt.hist(CorsairGEQ[:,1],alpha=0.50,color=\"DeepSkyBlue\",histtype=\"stepfilled\")\n",
    "plt.hist(CorsairGEQ[:,2],alpha=0.50,color=\"Green\")\n",
    "plt.xlabel(\"Number of Wounds on T7 2+ MC\")\n",
    "plt.ylabel(\"Number of Simulated Games\")"
   ]
  },
  {
   "cell_type": "code",
   "execution_count": null,
   "metadata": {
    "collapsed": true
   },
   "outputs": [],
   "source": []
  }
 ],
 "metadata": {
  "kernelspec": {
   "display_name": "Python 2",
   "language": "python",
   "name": "python2"
  },
  "language_info": {
   "codemirror_mode": {
    "name": "ipython",
    "version": 2
   },
   "file_extension": ".py",
   "mimetype": "text/x-python",
   "name": "python",
   "nbconvert_exporter": "python",
   "pygments_lexer": "ipython2",
   "version": "2.7.11"
  }
 },
 "nbformat": 4,
 "nbformat_minor": 0
}
