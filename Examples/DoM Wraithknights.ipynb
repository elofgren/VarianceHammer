{
 "cells": [
  {
   "cell_type": "markdown",
   "metadata": {},
   "source": [
    "Code for Variance Hammer's Review of the new Doom of Mymeara Wraithknights\n",
    "=======\n",
    "This code is for the analysis of the new Inferno Lance armed Skathach Waithknight versus it's normal Craftworld cousin. The text of the review itself is at: http://www.variancehammer.com/ . Note that because this analysis uses random numbers, any results you obtain may differ from those on the blog posting due to random chance."
   ]
  },
  {
   "cell_type": "markdown",
   "metadata": {},
   "source": [
    "**Import the necessary libraries**\n",
    "\n",
    "These are easily obtained using the Anaconda Python Distribution, which is available free from http://www.continuum.io"
   ]
  },
  {
   "cell_type": "code",
   "execution_count": 2,
   "metadata": {
    "collapsed": true
   },
   "outputs": [],
   "source": [
    "%matplotlib inline"
   ]
  },
  {
   "cell_type": "code",
   "execution_count": 3,
   "metadata": {
    "collapsed": true
   },
   "outputs": [],
   "source": [
    "import numpy as np\n",
    "import random as rand\n",
    "import seaborn as sns\n",
    "import matplotlib as mpl\n",
    "import matplotlib.pyplot as plt"
   ]
  },
  {
   "cell_type": "markdown",
   "metadata": {},
   "source": [
    "As there is no Variance Hammer library available (yet), we need to define a couple useful functions. *DiceRoller()* is a function to roll an arbitrary number of d6 dice. *Shooting()* does what it says on the tin - it takes a number of shots, rolls the appropriate number of d6 dice, checks those results against Ballistic Skill, and if the shots are twin-linked, rerolls as appropriate. Note that at the moment this function **does not** work for BS values above 6."
   ]
  },
  {
   "cell_type": "code",
   "execution_count": 4,
   "metadata": {
    "collapsed": true
   },
   "outputs": [],
   "source": [
    "def DiceRoller(n_rolls):\n",
    "\ttry:\n",
    "\t\tdice = int(n_rolls)\n",
    "\texcept ValueError:\n",
    "\t\tprint(\"Number of dice to roll needs to be an integer\")\n",
    "\trolls = np.random.random_integers(6, size=(1.,dice))\n",
    "\treturn rolls"
   ]
  },
  {
   "cell_type": "code",
   "execution_count": 27,
   "metadata": {
    "collapsed": false
   },
   "outputs": [],
   "source": [
    "def Shooting(BS, n_shots, twinlinked):\n",
    "    try:\n",
    "        BS = int(BS)\n",
    "    except ValueError:\n",
    "        print(\"BS needs to be an integer\")\n",
    "    try:\n",
    "        n_shots = int(n_shots)\n",
    "    except ValueError:\n",
    "        print(\"Number of shots needs to be an integer\")\n",
    "    if twinlinked == \"Y\":\n",
    "        shots = DiceRoller(n_shots)\n",
    "        shots[shots <= (7-BS)] = rand.randint(1,6)\n",
    "    elif twinlinked ==\"N\":\n",
    "        shots = DiceRoller(n_shots)\n",
    "    else:\n",
    "        print(\"Designate Twin-linking with Y or N. Assumed to be off.\")\n",
    "        shots = DiceRoller(n_shots)\n",
    "\n",
    "    hits = np.sum(shots.__ge__(7-BS))\n",
    "    return shots,hits"
   ]
  },
  {
   "cell_type": "code",
   "execution_count": 6,
   "metadata": {
    "collapsed": false
   },
   "outputs": [],
   "source": [
    "def Wounding(strength,toughness,save,n_hits,woundspermodel,auto):\n",
    "    try:\n",
    "        toughness = int(toughness)\n",
    "    except ValueError:\n",
    "        print(\"Target toughness needs to be an integer\")\n",
    "    try:\n",
    "        save = int(save)\n",
    "    except ValueError:\n",
    "        print(\"Save needs to be an integer (e.g. 3+ = 3)\")\n",
    "    try:\n",
    "        n_hits = int(n_hits)\n",
    "    except ValueError:\n",
    "        print(\"The number of hits needs to be an integer\")\n",
    "    if strength == \"D\":\n",
    "        pass\n",
    "    elif strength == \"D-1\":\n",
    "        pass\n",
    "    else:\n",
    "        try:\n",
    "            strength = int(strength)\n",
    "        except ValueError:\n",
    "            print(\"Strength must be an integer or D\")\n",
    "\n",
    "    woundrolls = DiceRoller(n_hits)\n",
    "    \n",
    "    if auto == 0:\n",
    "        if strength == \"D\":\n",
    "            NoSaveD = np.sum(woundrolls==6)\n",
    "            SaveD = np.sum(1<woundrolls) - NoSaveD\n",
    "            saverolls = DiceRoller(SaveD)\n",
    "            unsaved = np.sum(saverolls<save)\n",
    "            unsaved_expanded = 0\n",
    "            for k in range(unsaved):\n",
    "                unsaved_expanded = unsaved_expanded + min(woundspermodel,rand.randint(1,3))\n",
    "            for j in range(NoSaveD):\n",
    "                unsaved_expanded = unsaved_expanded + min(woundspermodel,(rand.randint(1,6)+6))\n",
    "            finalwounds = unsaved_expanded\n",
    "        elif strength == \"D-1\":\n",
    "            SaveD = np.sum(2<woundrolls)\n",
    "            saverolls = DiceRoller(SaveD)\n",
    "            unsaved = np.sum(saverolls<save)\n",
    "            unsaved_expanded = 0\n",
    "            for k in range(unsaved):\n",
    "                unsaved_expanded = unsaved_expanded + min(woundspermodel,rand.randint(1,3))\n",
    "            finalwounds = unsaved_expanded\n",
    "        \n",
    "        else:\n",
    "            SvTDiff = strength-toughness\n",
    "            ToWound = max(2,4-SvTDiff)\n",
    "            wounds = np.sum(woundrolls.__ge__(ToWound))\n",
    "            saverolls = DiceRoller(wounds)\n",
    "            unsaved = np.sum(saverolls<(save))\n",
    "            finalwounds = unsaved\n",
    "            \n",
    "    else:\n",
    "        if strength == \"D\":\n",
    "            NoSaveD = np.sum(woundrolls==6)\n",
    "            SaveD = np.sum(1<woundrolls) - NoSaveD\n",
    "            saverolls = DiceRoller(SaveD)\n",
    "            unsaved = np.sum(saverolls<save)\n",
    "            unsaved_expanded = 0\n",
    "            for k in range(unsaved):\n",
    "                unsaved_expanded = unsaved_expanded + min(woundspermodel,rand.randint(1,3))\n",
    "            for j in range(NoSaveD):\n",
    "                unsaved_expanded = unsaved_expanded + min(woundspermodel,(rand.randint(1,6)+6))\n",
    "            finalwounds = unsaved_expanded\n",
    "        elif strength == \"D-1\":\n",
    "            SaveD = np.sum(2<woundrolls)\n",
    "            saverolls = DiceRoller(SaveD)\n",
    "            unsaved = np.sum(saverolls<save)\n",
    "            unsaved_expanded = 0\n",
    "            for k in range(unsaved):\n",
    "                unsaved_expanded = unsaved_expanded + min(woundspermodel,rand.randint(1,3))\n",
    "            finalwounds = unsaved_expanded\n",
    "        \n",
    "        else:\n",
    "            SvTDiff = strength-toughness\n",
    "            autowounds = np.sum(woundrolls>=auto)\n",
    "            ToWound = max(2,4-SvTDiff)\n",
    "            wounds = np.sum(woundrolls.__ge__(ToWound))\n",
    "            if ToWound > 6:\n",
    "                truewounds = autowounds\n",
    "            else:\n",
    "                truewounds = wounds\n",
    "            saverolls = DiceRoller(truewounds)\n",
    "            unsaved = np.sum(saverolls<(save))\n",
    "            finalwounds = unsaved\n",
    "    \n",
    "    cappedwounds = min(woundspermodel,finalwounds)\n",
    "    return cappedwounds\n",
    "\n",
    "def ArmorPen(strength,AV,save,n_hits,hullpoints,melta):\n",
    "    try:\n",
    "        AV = int(AV)\n",
    "    except ValueError:\n",
    "        print(\"Target Armor Value needs to be an integer\")\n",
    "    try:\n",
    "        save = int(save)\n",
    "    except ValueError:\n",
    "        print(\"Save needs to be an integer (e.g. 3+ = 3)\")\n",
    "    try:\n",
    "        n_hits = int(n_hits)\n",
    "    except ValueError:\n",
    "        print(\"The number of hits needs to be an integer\")\n",
    "    if strength == \"D\":\n",
    "        pass\n",
    "    elif strength == \"D-1\":\n",
    "        pass\n",
    "    else:\n",
    "        try:\n",
    "            strength = int(strength)\n",
    "        except ValueError:\n",
    "            print(\"Strength must be an integer or D\")\n",
    "    \n",
    "    if strength == \"D\":\n",
    "        penrolls = DiceRoller(n_hits)\n",
    "        NoSaveD = np.sum(penrolls==6)\n",
    "        SaveD = np.sum(1<penrolls) - NoSaveD\n",
    "        saverolls = DiceRoller(SaveD)\n",
    "        unsaved = np.sum(saverolls<save)\n",
    "        unsaved_expanded = 0\n",
    "        for k in range(unsaved):\n",
    "            unsaved_expanded = unsaved_expanded + min(hullpoints,rand.randint(1,3))\n",
    "        for j in range(NoSaveD):\n",
    "            unsaved_expanded = unsaved_expanded + min(hullpoints,(rand.randint(1,6)+6))\n",
    "        final = min(hullpoints,unsaved_expanded)\n",
    "    elif strength == \"D-1\":\n",
    "        penrolls = DiceRoller(n_hits)-1\n",
    "        NoSaveD = np.sum(penrolls==6)\n",
    "        SaveD = np.sum(1<penrolls) - NoSaveD\n",
    "        saverolls = DiceRoller(SaveD)\n",
    "        unsaved = np.sum(saverolls<save)\n",
    "        unsaved_expanded = 0\n",
    "        for k in range(unsaved):\n",
    "            unsaved_expanded = unsaved_expanded + min(hullpoints,rand.randint(1,3))\n",
    "        for j in range(NoSaveD):\n",
    "            unsaved_expanded = unsaved_expanded + min(hullpoints,(rand.randint(1,6)+6))\n",
    "        final = min(hullpoints,unsaved_expanded)\n",
    "    else:\n",
    "        if melta == \"Yes\":\n",
    "            penrolls = DiceRoller(n_hits) + DiceRoller(n_hits) + strength\n",
    "            pen_and_glance = np.sum(penrolls.__ge__(AV))\n",
    "            glances = np.sum(penrolls==AV)\n",
    "            pens = pen_and_glance - glances\n",
    "            saverolls = DiceRoller(pen_and_glance)\n",
    "            unsaved = np.sum(saverolls<(save))\n",
    "            final = min(hullpoints,unsaved)\n",
    "        else:\n",
    "            penrolls = DiceRoller(n_hits) + strength\n",
    "            pen_and_glance = np.sum(penrolls.__ge__(AV))\n",
    "            glances = np.sum(penrolls==AV)\n",
    "            pens = pen_and_glance - glances\n",
    "            saverolls = DiceRoller(pen_and_glance)\n",
    "            unsaved = np.sum(saverolls<(save))\n",
    "            final = min(hullpoints,unsaved)\n",
    "    return final"
   ]
  },
  {
   "cell_type": "code",
   "execution_count": 7,
   "metadata": {
    "collapsed": true
   },
   "outputs": [],
   "source": [
    "def ConWraith(AV,enemySave,HP):\n",
    "    Shots = Shooting(4,2,'N')[1]\n",
    "    DGorP = ArmorPen(\"D\",AV,enemySave,Shots,HP,melta=\"No\")\n",
    "    return DGorP\n",
    "\n",
    "def NewWraith(AV,enemySave,HP):\n",
    "    number_of_shots = (rand.randint(1,3) + 2) + (rand.randint(1,3) + 2)\n",
    "    Shots = Shooting(4,number_of_shots,'N')[1]\n",
    "    GorP = ArmorPen(8,AV,enemySave,Shots,HP,melta=\"Yes\")\n",
    "    return GorP\n",
    "\n",
    "def NewWraithLong(AV,enemySave,HP):\n",
    "    number_of_shots = (rand.randint(1,3) + 2) + (rand.randint(1,3) + 2)\n",
    "    Shots = Shooting(4,number_of_shots,'N')[1]\n",
    "    GorP = ArmorPen(8,AV,enemySave,Shots,HP,melta=\"No\")\n",
    "    return GorP"
   ]
  },
  {
   "cell_type": "code",
   "execution_count": 8,
   "metadata": {
    "collapsed": false
   },
   "outputs": [
    {
     "data": {
      "text/plain": [
       "2"
      ]
     },
     "execution_count": 8,
     "metadata": {},
     "output_type": "execute_result"
    }
   ],
   "source": [
    "NewWraith(13,4,6)"
   ]
  },
  {
   "cell_type": "code",
   "execution_count": 9,
   "metadata": {
    "collapsed": true
   },
   "outputs": [],
   "source": [
    "runs = 1000"
   ]
  },
  {
   "cell_type": "markdown",
   "metadata": {},
   "source": [
    "**Versus a Generic Knight**"
   ]
  },
  {
   "cell_type": "code",
   "execution_count": 10,
   "metadata": {
    "collapsed": false
   },
   "outputs": [
    {
     "data": {
      "text/plain": [
       "<matplotlib.text.Text at 0x114d6d710>"
      ]
     },
     "execution_count": 10,
     "metadata": {},
     "output_type": "execute_result"
    },
    {
     "data": {
      "image/png": "[encoded data removed]",
      "text/plain": [
       "<matplotlib.figure.Figure at 0x1066b9490>"
      ]
     },
     "metadata": {},
     "output_type": "display_data"
    }
   ],
   "source": [
    "Knights = np.empty([runs,2])\n",
    "\n",
    "for f in range(runs):\n",
    "    Knights[f][0] = ConWraith(13,4,6)\n",
    "    Knights[f][1] = NewWraith(13,4,6)\n",
    "\n",
    "plt.xlim(xmax=6.5,xmin=-0.5)\n",
    "plt.hist(Knights[:,0],alpha=0.50,color=\"DarkViolet\",bins =(-0.5,0.5,1.5,2.5,3.5,4.5,5.5,6.5))\n",
    "plt.hist(Knights[:,1],alpha=0.50,color=\"DeepSkyBlue\",bins =(-0.5,0.5,1.5,2.5,3.5,4.5,5.5,6.5))\n",
    "plt.xlabel(\"Glancing or Penetrating Hits\",size=14)\n",
    "plt.ylabel(\"Number of Simulated Rounds\",size=14)"
   ]
  },
  {
   "cell_type": "code",
   "execution_count": 11,
   "metadata": {
    "collapsed": false
   },
   "outputs": [
    {
     "data": {
      "text/plain": [
       "2.0459999999999998"
      ]
     },
     "execution_count": 11,
     "metadata": {},
     "output_type": "execute_result"
    }
   ],
   "source": [
    "np.mean(Knights[:,0])"
   ]
  },
  {
   "cell_type": "code",
   "execution_count": 12,
   "metadata": {
    "collapsed": false
   },
   "outputs": [
    {
     "data": {
      "text/plain": [
       "2.2229999999999999"
      ]
     },
     "execution_count": 12,
     "metadata": {},
     "output_type": "execute_result"
    }
   ],
   "source": [
    "np.mean(Knights[:,1])"
   ]
  },
  {
   "cell_type": "code",
   "execution_count": 13,
   "metadata": {
    "collapsed": false
   },
   "outputs": [
    {
     "data": {
      "text/plain": [
       "<matplotlib.text.Text at 0x11539a8d0>"
      ]
     },
     "execution_count": 13,
     "metadata": {},
     "output_type": "execute_result"
    },
    {
     "data": {
      "image/png": "[encoded data removed]",
      "text/plain": [
       "<matplotlib.figure.Figure at 0x114b8a350>"
      ]
     },
     "metadata": {},
     "output_type": "display_data"
    }
   ],
   "source": [
    "KnightsLong = np.empty([runs,2])\n",
    "\n",
    "for f in range(runs):\n",
    "    KnightsLong[f][0] = ConWraith(13,4,6)\n",
    "    KnightsLong[f][1] = NewWraithLong(13,4,6)\n",
    "\n",
    "plt.xlim(xmax=6.5,xmin=-0.5)\n",
    "plt.hist(KnightsLong[:,0],alpha=0.50,color=\"DarkViolet\",bins =(-0.5,0.5,1.5,2.5,3.5,4.5,5.5,6.5))\n",
    "plt.hist(KnightsLong[:,1],alpha=0.50,color=\"DeepSkyBlue\",bins =(-0.5,0.5,1.5,2.5,3.5,4.5,5.5,6.5))\n",
    "plt.xlabel(\"Glancing or Penetrating Hits\",size=14)\n",
    "plt.ylabel(\"Number of Simulated Rounds\",size=14)"
   ]
  },
  {
   "cell_type": "code",
   "execution_count": 14,
   "metadata": {
    "collapsed": false
   },
   "outputs": [
    {
     "data": {
      "text/plain": [
       "<matplotlib.text.Text at 0x1153945d0>"
      ]
     },
     "execution_count": 14,
     "metadata": {},
     "output_type": "execute_result"
    },
    {
     "data": {
      "image/png": "[encoded data removed]",
      "text/plain": [
       "<matplotlib.figure.Figure at 0x114b8a650>"
      ]
     },
     "metadata": {},
     "output_type": "display_data"
    }
   ],
   "source": [
    "KnightsShield = np.empty([runs,2])\n",
    "\n",
    "for f in range(runs):\n",
    "    KnightsShield[f][0] = ConWraith(13,3,6)\n",
    "    KnightsShield[f][1] = NewWraith(13,3,6)\n",
    "\n",
    "plt.xlim(xmax=6.5,xmin=-0.5)\n",
    "plt.hist(KnightsShield[:,0],alpha=0.50,color=\"DarkViolet\",bins =(-0.5,0.5,1.5,2.5,3.5,4.5,5.5,6.5))\n",
    "plt.hist(KnightsShield[:,1],alpha=0.50,color=\"DeepSkyBlue\",bins =(-0.5,0.5,1.5,2.5,3.5,4.5,5.5,6.5))\n",
    "plt.xlabel(\"Glancing or Penetrating Hits\",size=14)\n",
    "plt.ylabel(\"Number of Simulated Rounds\",size=14)"
   ]
  },
  {
   "cell_type": "markdown",
   "metadata": {},
   "source": [
    "** But What If We're Using the ITC Nerfed D? **"
   ]
  },
  {
   "cell_type": "code",
   "execution_count": 15,
   "metadata": {
    "collapsed": false
   },
   "outputs": [
    {
     "data": {
      "text/plain": [
       "<matplotlib.text.Text at 0x115796810>"
      ]
     },
     "execution_count": 15,
     "metadata": {},
     "output_type": "execute_result"
    },
    {
     "data": {
      "image/png": "[encoded data removed]",
      "text/plain": [
       "<matplotlib.figure.Figure at 0x1154b1a90>"
      ]
     },
     "metadata": {},
     "output_type": "display_data"
    }
   ],
   "source": [
    "def NerfWraith(AV,enemySave,HP):\n",
    "    Shots = Shooting(4,2,'N')[1]\n",
    "    DGorP = ArmorPen(\"D-1\",AV,enemySave,Shots,HP,melta=\"No\")\n",
    "    return DGorP\n",
    "\n",
    "KnightsNerf = np.empty([runs,2])\n",
    "\n",
    "for f in range(runs):\n",
    "    KnightsNerf[f][0] = NerfWraith(13,4,6)\n",
    "    KnightsNerf[f][1] = NewWraithLong(13,4,6)\n",
    "\n",
    "plt.xlim(xmax=6.5,xmin=-0.5)\n",
    "plt.hist(KnightsNerf[:,0],alpha=0.50,color=\"DarkViolet\",bins =(-0.5,0.5,1.5,2.5,3.5,4.5,5.5,6.5))\n",
    "plt.hist(KnightsNerf[:,1],alpha=0.50,color=\"DeepSkyBlue\",bins =(-0.5,0.5,1.5,2.5,3.5,4.5,5.5,6.5))\n",
    "plt.xlabel(\"Glancing or Penetrating Hits\",size=14)\n",
    "plt.ylabel(\"Number of Simulated Rounds\",size=14)"
   ]
  },
  {
   "cell_type": "markdown",
   "metadata": {},
   "source": [
    "**Versus a GMC that is *totally not a Wraithknight* **"
   ]
  },
  {
   "cell_type": "code",
   "execution_count": 16,
   "metadata": {
    "collapsed": false
   },
   "outputs": [
    {
     "data": {
      "text/plain": [
       "<matplotlib.text.Text at 0x115a74550>"
      ]
     },
     "execution_count": 16,
     "metadata": {},
     "output_type": "execute_result"
    },
    {
     "data": {
      "image/png": "[encoded data removed]",
      "text/plain": [
       "<matplotlib.figure.Figure at 0x106b42f10>"
      ]
     },
     "metadata": {},
     "output_type": "display_data"
    }
   ],
   "source": [
    "def MCConWraith(enemyT,enemySave,enemyW):\n",
    "    Shots = Shooting(4,2,'N')[1]\n",
    "    Wounds = Wounding(\"D\",enemyT,enemySave,Shots,enemyW,auto=0)\n",
    "    return Wounds\n",
    "\n",
    "def MCNewWraith(enemyT,enemySave,enemyW):\n",
    "    number_of_shots = (rand.randint(1,3) + 2) + (rand.randint(1,3) + 2)\n",
    "    Shots = Shooting(4,number_of_shots,'N')[1]\n",
    "    Wounds = Wounding(8,enemyT,enemySave,Shots,enemyW,auto=0)\n",
    "    return Wounds\n",
    "\n",
    "VersusGMC = np.empty([runs,2])\n",
    "\n",
    "for g in range(runs):\n",
    "    VersusGMC[g][0] = MCConWraith(8,7,6)\n",
    "    VersusGMC[g][1] = MCNewWraith(8,7,6)\n",
    "\n",
    "plt.xlim(xmax=6.5,xmin=-0.5)\n",
    "plt.hist(VersusGMC[:,0],alpha=0.50,color=\"DarkViolet\",\n",
    "         bins =(-0.5,0.5,1.5,2.5,3.5,4.5,5.5,6.5))\n",
    "plt.hist(VersusGMC[:,1],alpha=0.50,color=\"DeepSkyBlue\",\n",
    "        bins =(-0.5,0.5,1.5,2.5,3.5,4.5,5.5,6.5))\n",
    "plt.xlabel(\"Number of Unsaved Wounds\",size=14)\n",
    "plt.ylabel(\"Number of Simulated Rounds\",size=14)"
   ]
  },
  {
   "cell_type": "code",
   "execution_count": 17,
   "metadata": {
    "collapsed": false
   },
   "outputs": [
    {
     "data": {
      "text/plain": [
       "2.8780000000000001"
      ]
     },
     "execution_count": 17,
     "metadata": {},
     "output_type": "execute_result"
    }
   ],
   "source": [
    "np.mean(VersusGMC[:,0])"
   ]
  },
  {
   "cell_type": "code",
   "execution_count": 18,
   "metadata": {
    "collapsed": false
   },
   "outputs": [
    {
     "data": {
      "text/plain": [
       "2.6549999999999998"
      ]
     },
     "execution_count": 18,
     "metadata": {},
     "output_type": "execute_result"
    }
   ],
   "source": [
    "np.mean(VersusGMC[:,1])"
   ]
  },
  {
   "cell_type": "code",
   "execution_count": 35,
   "metadata": {
    "collapsed": false
   },
   "outputs": [
    {
     "data": {
      "text/plain": [
       "<matplotlib.text.Text at 0x117357910>"
      ]
     },
     "execution_count": 35,
     "metadata": {},
     "output_type": "execute_result"
    },
    {
     "data": {
      "image/png": "[encoded data removed]",
      "text/plain": [
       "<matplotlib.figure.Figure at 0x115d11cd0>"
      ]
     },
     "metadata": {},
     "output_type": "display_data"
    }
   ],
   "source": [
    "def ConWraithTL(AV,enemySave,HP):\n",
    "    Shots = Shooting(4,2,'Y')[1]\n",
    "    DGorP = ArmorPen(\"D\",AV,enemySave,Shots,HP,melta=\"No\")\n",
    "    return DGorP\n",
    "\n",
    "def NewWraithTL(AV,enemySave,HP):\n",
    "    number_of_shots = (rand.randint(1,3) + 2) + (rand.randint(1,3) + 2)\n",
    "    Shots = Shooting(4,number_of_shots,'Y')[1]\n",
    "    GorP = ArmorPen(8,AV,enemySave,Shots,HP,melta=\"Yes\")\n",
    "    return GorP\n",
    "\n",
    "Twinlink = np.empty([runs,2])\n",
    "\n",
    "for f in range(runs):\n",
    "    Twinlink[f][0] = NewWraithTL(13,3,6)\n",
    "    Twinlink[f][1] = NewWraith(13,3,6)\n",
    "\n",
    "plt.xlim(xmax=6.5,xmin=-0.5)\n",
    "plt.hist(Twinlink[:,0],alpha=0.50,color=\"DarkViolet\",\n",
    "         bins =(-0.5,0.5,1.5,2.5,3.5,4.5,5.5,6.5))\n",
    "plt.hist(Twinlink[:,1],alpha=0.50,color=\"DeepSkyBlue\",\n",
    "        bins =(-0.5,0.5,1.5,2.5,3.5,4.5,5.5,6.5))\n",
    "plt.xlabel(\"Number of Unsaved Wounds\",size=14)\n",
    "plt.ylabel(\"Number of Simulated Rounds\",size=14)"
   ]
  },
  {
   "cell_type": "code",
   "execution_count": 36,
   "metadata": {
    "collapsed": false
   },
   "outputs": [
    {
     "data": {
      "text/plain": [
       "1.885"
      ]
     },
     "execution_count": 36,
     "metadata": {},
     "output_type": "execute_result"
    }
   ],
   "source": [
    "np.mean(Twinlink[:,0])"
   ]
  },
  {
   "cell_type": "code",
   "execution_count": null,
   "metadata": {
    "collapsed": true
   },
   "outputs": [],
   "source": []
  },
  {
   "cell_type": "code",
   "execution_count": null,
   "metadata": {
    "collapsed": true
   },
   "outputs": [],
   "source": []
  }
 ],
 "metadata": {
  "kernelspec": {
   "display_name": "Python 2",
   "language": "python",
   "name": "python2"
  },
  "language_info": {
   "codemirror_mode": {
    "name": "ipython",
    "version": 2
   },
   "file_extension": ".py",
   "mimetype": "text/x-python",
   "name": "python",
   "nbconvert_exporter": "python",
   "pygments_lexer": "ipython2",
   "version": "2.7.10"
  }
 },
 "nbformat": 4,
 "nbformat_minor": 0
}
