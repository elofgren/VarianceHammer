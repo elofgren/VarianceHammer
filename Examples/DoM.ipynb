{
 "cells": [
  {
   "cell_type": "markdown",
   "metadata": {},
   "source": [
    "Code for Variance Hammer's Doom of Mymeara Review\n",
    "=======\n",
    "This code is for the analysis of the *Doom of Mymeara*, particularly Craftworld Eldar units.. The text of the review itself is at: http://www.variancehammer.com/ . Note that because this analysis uses random numbers, any results you obtain may differ from those on the blog posting due to random chance."
   ]
  },
  {
   "cell_type": "markdown",
   "metadata": {},
   "source": [
    "**Import the necessary libraries**\n",
    "These are easily obtained using the Anaconda Python Distribution, which is available free from http://www.continuum.io"
   ]
  },
  {
   "cell_type": "code",
   "execution_count": 1,
   "metadata": {
    "collapsed": true
   },
   "outputs": [],
   "source": [
    "%matplotlib inline\n",
    "import numpy as np\n",
    "import random as rand\n",
    "import seaborn as sns\n",
    "import matplotlib as mpl\n",
    "import matplotlib.pyplot as plt"
   ]
  },
  {
   "cell_type": "markdown",
   "metadata": {},
   "source": [
    "As there is no Variance Hammer library available (yet), we need to define a couple useful functions. DiceRoller() is a function to roll an arbitrary number of d6 dice. Shooting() does what it says on the tin - it takes a number of shots, rolls the appropriate number of d6 dice, checks those results against Ballistic Skill, and if the shots are twin-linked, rerolls as appropriate. Note that at the moment this function does not work for BS values above 6."
   ]
  },
  {
   "cell_type": "code",
   "execution_count": 3,
   "metadata": {
    "collapsed": true
   },
   "outputs": [],
   "source": [
    "def DiceRoller(n_rolls):\n",
    "\ttry:\n",
    "\t\tdice = int(n_rolls)\n",
    "\texcept ValueError:\n",
    "\t\tprint(\"Number of dice to roll needs to be an integer\")\n",
    "\trolls = np.random.random_integers(6, size=(1.,dice))\n",
    "\treturn rolls"
   ]
  },
  {
   "cell_type": "code",
   "execution_count": 30,
   "metadata": {
    "collapsed": true
   },
   "outputs": [],
   "source": [
    "def Shooting(BS, n_shots, twinlinked):\n",
    "    try:\n",
    "        BS = int(BS)\n",
    "    except ValueError:\n",
    "        print(\"BS needs to be an integer\")\n",
    "    try:\n",
    "        n_shots = int(n_shots)\n",
    "    except ValueError:\n",
    "        print(\"Number of shots needs to be an integer\")\n",
    "    if twinlinked == \"Y\":\n",
    "        shots = DiceRoller(n_shots)\n",
    "        shots[shots < (7-BS)] = rand.randint(1,6)\n",
    "    elif twinlinked ==\"N\":\n",
    "        shots = DiceRoller(n_shots)\n",
    "    else:\n",
    "        print(\"Designate Twin-linking with Y or N. Assumed to be off.\")\n",
    "        shots = DiceRoller(n_shots)\n",
    "\n",
    "    hits = np.sum(shots.__ge__(7-BS))\n",
    "    return shots,hits"
   ]
  },
  {
   "cell_type": "code",
   "execution_count": 31,
   "metadata": {
    "collapsed": true
   },
   "outputs": [],
   "source": [
    "def ArmorPen(strength,AV,save,n_hits,hullpoints):\n",
    "    try:\n",
    "        AV = int(AV)\n",
    "    except ValueError:\n",
    "        print(\"Target Armor Value needs to be an integer\")\n",
    "    try:\n",
    "        save = int(save)\n",
    "    except ValueError:\n",
    "        print(\"Save needs to be an integer (e.g. 3+ = 3)\")\n",
    "    try:\n",
    "        n_hits = int(n_hits)\n",
    "    except ValueError:\n",
    "        print(\"The number of hits needs to be an integer\")\n",
    "    if strength == \"D\":\n",
    "        pass\n",
    "    else:\n",
    "        try:\n",
    "            strength = int(strength)\n",
    "        except ValueError:\n",
    "            print(\"Strength must be an integer or D\")\n",
    "    \n",
    "    if strength == \"D\":\n",
    "        penrolls = DiceRoller(n_hits)\n",
    "        NoSaveD = np.sum(penrolls==6)\n",
    "        SaveD = np.sum(1<penrolls) - NoSaveD\n",
    "        saverolls = DiceRoller(SaveD)\n",
    "        unsaved = np.sum(saverolls<save)\n",
    "        unsaved_expanded = 0\n",
    "        for k in range(unsaved):\n",
    "            unsaved_expanded = unsaved_expanded + min(hullpoints,rand.randint(1,3))\n",
    "        for j in range(NoSaveD):\n",
    "            unsaved_expanded = unsaved_expanded + min(hullpoints,(rand.randint(1,6)+6))\n",
    "        final = min(hullpoints,unsaved_expanded)\n",
    "    else:\n",
    "        penrolls = DiceRoller(n_hits) + strength\n",
    "        pen_and_glance = np.sum(penrolls.__ge__(AV))\n",
    "        glances = np.sum(penrolls==AV)\n",
    "        pens = pen_and_glance - glances\n",
    "        saverolls = DiceRoller(pen_and_glance)\n",
    "        unsaved = np.sum(saverolls<(save))\n",
    "        final = min(hullpoints,unsaved)\n",
    "        \n",
    "    return final"
   ]
  },
  {
   "cell_type": "code",
   "execution_count": 32,
   "metadata": {
    "collapsed": true
   },
   "outputs": [],
   "source": [
    "sns.set_palette(\"deep\", desat=.6)\n",
    "sns.set_context(rc={\"figure.figsize\": (8, 4)})\n",
    "runs = 2500"
   ]
  },
  {
   "cell_type": "code",
   "execution_count": 33,
   "metadata": {
    "collapsed": false
   },
   "outputs": [
    {
     "data": {
      "text/plain": [
       "<matplotlib.text.Text at 0x10d133810>"
      ]
     },
     "execution_count": 33,
     "metadata": {},
     "output_type": "execute_result"
    },
    {
     "data": {
      "image/png": "[encoded data removed]",
      "text/plain": [
       "<matplotlib.figure.Figure at 0x10b38e150>"
      ]
     },
     "metadata": {},
     "output_type": "display_data"
    }
   ],
   "source": [
    "def HornetAA(AV,hullpoints):\n",
    "    HornetShots = Shooting(1,(4*3),'N')[1]\n",
    "    HornetHits = ArmorPen(8,AV,4,HornetShots,hullpoints)\n",
    "    return HornetHits\n",
    "\n",
    "HornetAA1 = np.empty([runs,2])\n",
    "for m in range(runs):\n",
    "    HornetAA1[m][0] = HornetAA(10,3)\n",
    "    HornetAA1[m][1] = HornetAA(12,3)\n",
    "    \n",
    "plt.hist(HornetAA1[:,0],alpha=0.50,color=\"DarkViolet\",histtype=\"stepfilled\")\n",
    "plt.hist(HornetAA1[:,1],alpha=0.50,color=\"DeepSkyBlue\")\n",
    "plt.xlabel(\"Number of Hull Points Removed\")\n",
    "plt.ylabel(\"Number of Simulated Games\")"
   ]
  },
  {
   "cell_type": "code",
   "execution_count": 35,
   "metadata": {
    "collapsed": false
   },
   "outputs": [
    {
     "data": {
      "text/plain": [
       "<matplotlib.text.Text at 0x10d6dd050>"
      ]
     },
     "execution_count": 35,
     "metadata": {},
     "output_type": "execute_result"
    },
    {
     "data": {
      "image/png": "[encoded data removed]",
      "text/plain": [
       "<matplotlib.figure.Figure at 0x10d6d5890>"
      ]
     },
     "metadata": {},
     "output_type": "display_data"
    }
   ],
   "source": [
    "def HornetAATL(AV,hullpoints):\n",
    "    HornetShots = Shooting(1,(4*3),'Y')[1]\n",
    "    HornetHits = ArmorPen(8,AV,4,HornetShots,hullpoints)\n",
    "    return HornetHits\n",
    "\n",
    "HornetAA2 = np.empty([runs,2])\n",
    "for n in range(runs):\n",
    "    HornetAA2[n][0] = HornetAATL(10,3)\n",
    "    HornetAA2[n][1] = HornetAATL(12,3)\n",
    "    \n",
    "plt.hist(HornetAA2[:,0],alpha=0.50,color=\"DarkViolet\",histtype=\"stepfilled\")\n",
    "plt.hist(HornetAA2[:,1],alpha=0.50,color=\"DeepSkyBlue\")\n",
    "plt.xlabel(\"Number of Hull Points Removed\")\n",
    "plt.ylabel(\"Number of Simulated Games\")"
   ]
  },
  {
   "cell_type": "code",
   "execution_count": 50,
   "metadata": {
    "collapsed": false
   },
   "outputs": [
    {
     "data": {
      "text/plain": [
       "<matplotlib.text.Text at 0x10ee0dfd0>"
      ]
     },
     "execution_count": 50,
     "metadata": {},
     "output_type": "execute_result"
    },
    {
     "data": {
      "image/png": "[encoded data removed]",
      "text/plain": [
       "<matplotlib.figure.Figure at 0x10f897550>"
      ]
     },
     "metadata": {},
     "output_type": "display_data"
    }
   ],
   "source": [
    "def LynxVKnight():\n",
    "    LynxShots = Shooting(4,3,'N')[1]\n",
    "    LynxGorP = ArmorPen(\"D\",13,4,LynxShots,6)\n",
    "    return LynxGorP\n",
    "\n",
    "KnightHPLost = np.empty([runs,2])\n",
    "\n",
    "for h in range(runs):\n",
    "    KnightHPLost[h][0] = LynxVKnight()\n",
    "\n",
    "plt.hist(KnightHPLost[:,0],alpha=0.50,bins=15,color=\"DarkViolet\",histtype=\"stepfilled\")\n",
    "plt.xlabel(\"Number of Hull Points Removed\")\n",
    "plt.ylabel(\"Number of Simulated Games\")\n",
    "\n"
   ]
  },
  {
   "cell_type": "code",
   "execution_count": 55,
   "metadata": {
    "collapsed": false
   },
   "outputs": [
    {
     "data": {
      "text/plain": [
       "<matplotlib.text.Text at 0x110187790>"
      ]
     },
     "execution_count": 55,
     "metadata": {},
     "output_type": "execute_result"
    },
    {
     "data": {
      "image/png": "[encoded data removed]",
      "text/plain": [
       "<matplotlib.figure.Figure at 0x110036f10>"
      ]
     },
     "metadata": {},
     "output_type": "display_data"
    }
   ],
   "source": [
    "def PhoenixAA_Missile(AV,hullpoints):\n",
    "    Shots = Shooting(4,6,'N')[1]\n",
    "    Hits = ArmorPen(5,AV,4,Shots,hullpoints)\n",
    "    return Hits\n",
    "\n",
    "def PhoenixAA_Cannon(AV,hullpoints):\n",
    "    Shots = Shooting(3,6,'N')[1]\n",
    "    Hits = ArmorPen(6,AV,4,Shots,hullpoints)\n",
    "    return Hits\n",
    "\n",
    "def PhoenixAA_Pulse(AV,hullpoints):\n",
    "    Shots = Shooting(4,2,'N')[1]\n",
    "    Hits = ArmorPen(8,AV,4,Shots,hullpoints)\n",
    "    return Hits\n",
    "\n",
    "PhoenixAA = np.empty([runs,2])\n",
    "for q in range(runs):\n",
    "    PhoenixAA[q][0] = min(PhoenixAA_Missile(11,3) + PhoenixAA_Pulse(11,3),3)\n",
    "    PhoenixAA[q][1] = min(PhoenixAA_Cannon(11,3) + PhoenixAA_Pulse(11,3),3)\n",
    "\n",
    "\n",
    "    \n",
    "plt.hist(PhoenixAA[:,0],alpha=0.50,color=\"DarkViolet\",histtype=\"stepfilled\")\n",
    "plt.hist(PhoenixAA[:,1],alpha=0.50,color=\"DeepSkyBlue\")\n",
    "plt.xlabel(\"Number of Hull Points Removed\")\n",
    "plt.ylabel(\"Number of Simulated Games\")"
   ]
  },
  {
   "cell_type": "code",
   "execution_count": 56,
   "metadata": {
    "collapsed": true
   },
   "outputs": [],
   "source": [
    "def Wounding(strength,toughness,save,n_hits,woundspermodel,auto,rend):\n",
    "    try:\n",
    "        toughness = int(toughness)\n",
    "    except ValueError:\n",
    "        print(\"Target toughness needs to be an integer\")\n",
    "    try:\n",
    "        save = int(save)\n",
    "    except ValueError:\n",
    "        print(\"Save needs to be an integer (e.g. 3+ = 3)\")\n",
    "    try:\n",
    "        n_hits = int(n_hits)\n",
    "    except ValueError:\n",
    "        print(\"The number of hits needs to be an integer\")\n",
    "    if strength == \"D\":\n",
    "        pass\n",
    "    elif strength == \"D-1\":\n",
    "        pass\n",
    "    else:\n",
    "        try:\n",
    "            strength = int(strength)\n",
    "        except ValueError:\n",
    "            print(\"Strength must be an integer or D\")\n",
    "\n",
    "    woundrolls = DiceRoller(n_hits)\n",
    "    if rend ==1:\n",
    "        auto == 1\n",
    "    else:\n",
    "        pass\n",
    "    \n",
    "    if auto == 0:\n",
    "        if strength == \"D\":\n",
    "            NoSaveD = np.sum(woundrolls==6)\n",
    "            SaveD = np.sum(1<woundrolls) - NoSaveD\n",
    "            saverolls = DiceRoller(SaveD)\n",
    "            unsaved = np.sum(saverolls<save)\n",
    "            unsaved_expanded = 0\n",
    "            for k in range(unsaved):\n",
    "                unsaved_expanded = unsaved_expanded + min(woundspermodel,rand.randint(1,3))\n",
    "            for j in range(NoSaveD):\n",
    "                unsaved_expanded = unsaved_expanded + min(woundspermodel,(rand.randint(1,6)+6))\n",
    "            finalwounds = unsaved_expanded\n",
    "        elif strength == \"D-1\":\n",
    "            SaveD = np.sum(2<woundrolls)\n",
    "            saverolls = DiceRoller(SaveD)\n",
    "            unsaved = np.sum(saverolls<save)\n",
    "            unsaved_expanded = 0\n",
    "            for k in range(unsaved):\n",
    "                unsaved_expanded = unsaved_expanded + min(woundspermodel,rand.randint(1,3))\n",
    "            finalwounds = unsaved_expanded\n",
    "        \n",
    "        else:\n",
    "            SvTDiff = strength-toughness\n",
    "            ToWound = max(2,4-SvTDiff)\n",
    "            wounds = np.sum(woundrolls.__ge__(ToWound))\n",
    "            saverolls = DiceRoller(wounds)\n",
    "            unsaved = np.sum(saverolls<(save))\n",
    "            finalwounds = unsaved\n",
    "            \n",
    "    else:\n",
    "        if strength == \"D\":\n",
    "            NoSaveD = np.sum(woundrolls==6)\n",
    "            SaveD = np.sum(1<woundrolls) - NoSaveD\n",
    "            saverolls = DiceRoller(SaveD)\n",
    "            unsaved = np.sum(saverolls<save)\n",
    "            unsaved_expanded = 0\n",
    "            for k in range(unsaved):\n",
    "                unsaved_expanded = unsaved_expanded + min(woundspermodel,rand.randint(1,3))\n",
    "            for j in range(NoSaveD):\n",
    "                unsaved_expanded = unsaved_expanded + min(woundspermodel,(rand.randint(1,6)+6))\n",
    "            finalwounds = unsaved_expanded\n",
    "        elif strength == \"D-1\":\n",
    "            SaveD = np.sum(2<woundrolls)\n",
    "            saverolls = DiceRoller(SaveD)\n",
    "            unsaved = np.sum(saverolls<save)\n",
    "            unsaved_expanded = 0\n",
    "            for k in range(unsaved):\n",
    "                unsaved_expanded = unsaved_expanded + min(woundspermodel,rand.randint(1,3))\n",
    "            finalwounds = unsaved_expanded\n",
    "        \n",
    "        else:\n",
    "            SvTDiff = strength-toughness\n",
    "            autowounds = np.sum(woundrolls>=auto)\n",
    "            if rend == 1:\n",
    "                rends = np.sum(woundrolls>=6)\n",
    "            else:\n",
    "                rends = 0  \n",
    "            ToWound = max(2,4-SvTDiff)\n",
    "            wounds = np.sum(woundrolls.__ge__(ToWound))\n",
    "            if ToWound > 6:\n",
    "                truewounds = autowounds\n",
    "            else:\n",
    "                truewounds = wounds\n",
    "            saverolls = DiceRoller(truewounds-rends)\n",
    "            if rend == 0:\n",
    "                unsaved = np.sum(saverolls<(save))\n",
    "            else:\n",
    "                unsaved = np.sum(saverolls<(save)+rends)\n",
    "            finalwounds = unsaved\n",
    "        \n",
    "    return finalwounds"
   ]
  },
  {
   "cell_type": "code",
   "execution_count": 68,
   "metadata": {
    "collapsed": false
   },
   "outputs": [
    {
     "data": {
      "text/plain": [
       "<matplotlib.text.Text at 0x112013f10>"
      ]
     },
     "execution_count": 68,
     "metadata": {},
     "output_type": "execute_result"
    },
    {
     "data": {
      "image/png": "[encoded data removed]",
      "text/plain": [
       "<matplotlib.figure.Figure at 0x111fcb6d0>"
      ]
     },
     "metadata": {},
     "output_type": "display_data"
    }
   ],
   "source": [
    "def VampireScatter(save):\n",
    "    ScatterShots = Shooting(5,4,'N')[1]\n",
    "    ScatterWounds = Wounding(6,4,save,ScatterShots,1,rend=0,auto=0)\n",
    "    return ScatterWounds\n",
    "\n",
    "def VampirePulse(save):\n",
    "    PulseShots = Shooting(5,2,'N')[1]\n",
    "    PulseWounds = Wounding(8,4,save,PulseShots,1,auto=0,rend=0)\n",
    "    return PulseWounds\n",
    "\n",
    "def VampireMissile(save):\n",
    "    MissileShots = Shooting(5,3,'Y')[1]\n",
    "    MissileWounds = Wounding(5,4,save,MissileShots,1,auto=0,rend=0)\n",
    "    return MissileWounds\n",
    "                            \n",
    "VampireMEQ = np.empty([runs,2])\n",
    "\n",
    "for p in range(runs):\n",
    "    VampireMEQ[p][0] = VampireScatter(3)+VampirePulse(7)+VampirePulse(7)\n",
    "    VampireMEQ[p][1] = VampireScatter(2)+VampireMissile(7)+VampireMissile(7)\n",
    "                             \n",
    "plt.hist(VampireMEQ[:,0],alpha=0.50,color=\"DarkViolet\",histtype=\"stepfilled\",bins=9)\n",
    "plt.hist(VampireMEQ[:,1],alpha=0.50,color=\"DeepSkyBlue\")\n",
    "plt.xlabel(\"Number of Killed MEQs\")\n",
    "plt.ylabel(\"Number of Simulated Games\")"
   ]
  },
  {
   "cell_type": "code",
   "execution_count": 76,
   "metadata": {
    "collapsed": false,
    "scrolled": true
   },
   "outputs": [
    {
     "data": {
      "text/plain": [
       "<matplotlib.text.Text at 0x112a7c510>"
      ]
     },
     "execution_count": 76,
     "metadata": {},
     "output_type": "execute_result"
    },
    {
     "data": {
      "image/png": "[encoded data removed]",
      "text/plain": [
       "<matplotlib.figure.Figure at 0x111c9ea50>"
      ]
     },
     "metadata": {},
     "output_type": "display_data"
    }
   ],
   "source": [
    "VampireTEQ = np.empty([runs,2])\n",
    "\n",
    "for s in range(runs):\n",
    "    VampireTEQ[s][0] = VampireScatter(3)+VampirePulse(5)+VampirePulse(5)\n",
    "    VampireTEQ[s][1] = VampireScatter(2)+VampireMissile(2)+VampireMissile(2)\n",
    "                             \n",
    "plt.hist(VampireTEQ[:,0],alpha=0.50,color=\"DarkViolet\",histtype=\"stepfilled\",bins=8)\n",
    "plt.hist(VampireTEQ[:,1],alpha=0.50,color=\"DeepSkyBlue\",histtype=\"stepfilled\",bins=6)\n",
    "plt.xlabel(\"Number of Killed MEQs\")\n",
    "plt.ylabel(\"Number of Simulated Games\")"
   ]
  },
  {
   "cell_type": "code",
   "execution_count": null,
   "metadata": {
    "collapsed": true
   },
   "outputs": [],
   "source": []
  }
 ],
 "metadata": {
  "kernelspec": {
   "display_name": "Python 2",
   "language": "python",
   "name": "python2"
  },
  "language_info": {
   "codemirror_mode": {
    "name": "ipython",
    "version": 2
   },
   "file_extension": ".py",
   "mimetype": "text/x-python",
   "name": "python",
   "nbconvert_exporter": "python",
   "pygments_lexer": "ipython2",
   "version": "2.7.11"
  }
 },
 "nbformat": 4,
 "nbformat_minor": 0
}
