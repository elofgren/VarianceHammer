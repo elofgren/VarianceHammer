{
 "cells": [
  {
   "cell_type": "markdown",
   "metadata": {},
   "source": [
    "Code for Variance Hammer's Eldar Codex Review\n",
    "========================\n",
    "This code is for the analysis of the effect of the changes to the Wave Serpent's Serpent Shield, as well as the impact of Dire Avengers being able to Overwatch at BS 2. The text of the review itself is at: http://www.variancehammer.com/ . Note that because this analysis uses random numbers, any results you obtain may differ from those on the blog posting due to random chance.\n"
   ]
  },
  {
   "cell_type": "markdown",
   "metadata": {},
   "source": [
    "**Import the necessary libraries**  \n",
    "\n",
    "These are easily obtained using the Anaconda Python Distribution, which is available free from http://www.continuum.io"
   ]
  },
  {
   "cell_type": "code",
   "execution_count": 1,
   "metadata": {
    "collapsed": true
   },
   "outputs": [],
   "source": [
    "%matplotlib inline"
   ]
  },
  {
   "cell_type": "code",
   "execution_count": 74,
   "metadata": {
    "collapsed": true
   },
   "outputs": [],
   "source": [
    "import numpy as np\n",
    "import random as rand\n",
    "import seaborn as sns\n",
    "import matplotlib as mpl\n",
    "import matplotlib.pyplot as plt"
   ]
  },
  {
   "cell_type": "markdown",
   "metadata": {},
   "source": [
    "As there is no Variance Hammer library available (yet), we need to define a couple useful functions. *DiceRoller()* is a function to roll an arbitrary number of d6 dice. *Shooting()* does what it says on the tin - it takes a number of shots, rolls the appropriate number of d6 dice, checks those results against Ballistic Skill, and if the shots are twin-linked, rerolls as appropriate. Note that at the moment this function **does not** work for BS values above 6."
   ]
  },
  {
   "cell_type": "code",
   "execution_count": 75,
   "metadata": {
    "collapsed": true
   },
   "outputs": [],
   "source": [
    "def DiceRoller(n_rolls):\n",
    "\ttry:\n",
    "\t\tdice = int(n_rolls)\n",
    "\texcept ValueError:\n",
    "\t\tprint(\"Number of dice to roll needs to be an integer\")\n",
    "\trolls = np.random.random_integers(6, size=(1.,dice))\n",
    "\treturn rolls"
   ]
  },
  {
   "cell_type": "code",
   "execution_count": 76,
   "metadata": {
    "collapsed": false
   },
   "outputs": [],
   "source": [
    "def Shooting(BS, n_shots, twinlinked):\n",
    "    try:\n",
    "        BS = int(BS)\n",
    "    except ValueError:\n",
    "        print(\"BS needs to be an integer\")\n",
    "    try:\n",
    "        n_shots = int(n_shots)\n",
    "    except ValueError:\n",
    "        print(\"Number of shots needs to be an integer\")\n",
    "    if twinlinked == \"Y\":\n",
    "        shots = DiceRoller(n_shots)\n",
    "        shots[shots > BS] = rand.randint(1,6)\n",
    "    elif twinlinked ==\"N\":\n",
    "        shots = DiceRoller(n_shots)\n",
    "    else:\n",
    "        print(\"Designate Twin-linking with Y or N. Assumed to be off.\")\n",
    "        shots = DiceRoller(n_shots)\n",
    "\n",
    "    hits = np.sum(shots.__ge__(7-BS))\n",
    "    return shots,hits"
   ]
  },
  {
   "cell_type": "markdown",
   "metadata": {},
   "source": [
    "**Wave Serpent Changes**\n",
    "\n",
    "Finally, we get to the actual analysis. Here, we build a function for an \"old\" 6th edition Wave Serpent firing both a twin-linked Scatter Laser and it's Serpent Shield for a turn, handling the twin-linking induced by Laser Lock if the Scatter Laser hits. Then we apply this for four turns worth of shooting.\n",
    "\n",
    "The \"new\" 7th edition Wave Serpent needs a slightly different function, as Laser Lock is no longer a rule, and we need to know if the Serpent Shield is available to fire. Then we apply the same idea - four turns of shooting, one with the Shield firing, the others without.\n",
    "\n",
    "Once we have those, we simulate a number of games, collect the results, and compare them using a histogram - 6th edition is in purple, and 7th edition is in Tarheel Blue."
   ]
  },
  {
   "cell_type": "code",
   "execution_count": 5,
   "metadata": {
    "collapsed": false
   },
   "outputs": [],
   "source": [
    "def OldWS():\n",
    "    ScatterLaser = Shooting(4,4,'Y')\n",
    "    if ScatterLaser[1] >= 1:\n",
    "        SS = Shooting(4,(rand.randint(1,6)+1),'Y')\n",
    "    else:\n",
    "        SS = Shooting(4,(rand.randint(1,6)+1),'N')\n",
    "    Total = ScatterLaser[1] + SS[1]\n",
    "    return Total\n",
    "\n",
    "def OldWSFourTurns():\n",
    "    Turn1 = OldWS()\n",
    "    Turn2 = OldWS()\n",
    "    Turn3 = OldWS()\n",
    "    Turn4 = OldWS()\n",
    "    Total = Turn1 + Turn2 + Turn3 + Turn4\n",
    "    return Total"
   ]
  },
  {
   "cell_type": "code",
   "execution_count": 6,
   "metadata": {
    "collapsed": false
   },
   "outputs": [],
   "source": [
    "def NewWS(shield):\n",
    "    ScatterLaser = Shooting(4,4,'Y')\n",
    "    if shield == 1:\n",
    "        SS = Shooting(4,(rand.randint(1,6)+rand.randint(1,6)),'N')\n",
    "        Total = ScatterLaser[1] + SS[1]\n",
    "    else:\n",
    "        Total = ScatterLaser[1]\n",
    "    return Total\n",
    "\n",
    "def NewWSFourTurns():\n",
    "    Turn1 = NewWS(shield=1)\n",
    "    Turn2 = NewWS(shield=0)\n",
    "    Turn3 = NewWS(shield=0)\n",
    "    Turn4 = NewWS(shield=0)\n",
    "    Total = Turn1 + Turn2 + Turn3 + Turn4\n",
    "    return Total"
   ]
  },
  {
   "cell_type": "code",
   "execution_count": 7,
   "metadata": {
    "collapsed": false
   },
   "outputs": [],
   "source": [
    "runs = 2500"
   ]
  },
  {
   "cell_type": "code",
   "execution_count": 8,
   "metadata": {
    "collapsed": false
   },
   "outputs": [],
   "source": [
    "wscomparison = np.empty([runs,2])"
   ]
  },
  {
   "cell_type": "code",
   "execution_count": 9,
   "metadata": {
    "collapsed": false
   },
   "outputs": [],
   "source": [
    "for i in range(runs):\n",
    "    wscomparison[i][0] = OldWSFourTurns()\n",
    "    wscomparison[i][1] = NewWSFourTurns()"
   ]
  },
  {
   "cell_type": "code",
   "execution_count": 10,
   "metadata": {
    "collapsed": true
   },
   "outputs": [],
   "source": [
    "sns.set_palette(\"deep\", desat=.6)\n",
    "sns.set_context(rc={\"figure.figsize\": (8, 4)})"
   ]
  },
  {
   "cell_type": "code",
   "execution_count": 11,
   "metadata": {
    "collapsed": false
   },
   "outputs": [
    {
     "data": {
      "text/plain": [
       "<matplotlib.text.Text at 0x10bc43a10>"
      ]
     },
     "execution_count": 11,
     "metadata": {},
     "output_type": "execute_result"
    },
    {
     "data": {
      "image/png": "[encoded data removed]",
      "text/plain": [
       "<matplotlib.figure.Figure at 0x10bbe8c50>"
      ]
     },
     "metadata": {},
     "output_type": "display_data"
    }
   ],
   "source": [
    "plt.hist(wscomparison[:,0],alpha=0.50,bins=10,color=\"DarkViolet\",histtype=\"stepfilled\")\n",
    "plt.hist(wscomparison[:,1],alpha=0.50,bins=10,color=\"DeepSkyBlue\",histtype=\"stepfilled\")\n",
    "plt.xlabel(\"Number of S6+ Hits\")\n",
    "plt.ylabel(\"Number of Simulated Games\")"
   ]
  },
  {
   "cell_type": "markdown",
   "metadata": {},
   "source": [
    "**Wave Serpent AA Fire**\n",
    "\n",
    "This analysis isn't terribly difficult - just the same analysis for a single turn, with an assumed BS of 1."
   ]
  },
  {
   "cell_type": "code",
   "execution_count": 12,
   "metadata": {
    "collapsed": false
   },
   "outputs": [
    {
     "data": {
      "text/plain": [
       "<matplotlib.text.Text at 0x10bd71050>"
      ]
     },
     "execution_count": 12,
     "metadata": {},
     "output_type": "execute_result"
    },
    {
     "data": {
      "image/png": "[encoded data removed]",
      "text/plain": [
       "<matplotlib.figure.Figure at 0x108435090>"
      ]
     },
     "metadata": {},
     "output_type": "display_data"
    }
   ],
   "source": [
    "def OldWSAA():\n",
    "    ScatterLaser = Shooting(1,4,'Y')\n",
    "    if ScatterLaser[1] >= 1:\n",
    "        SS = Shooting(1,(rand.randint(1,6)+1),'Y')\n",
    "    else:\n",
    "        SS = Shooting(1,(rand.randint(1,6)+1),'N')\n",
    "    Total = ScatterLaser[1] + SS[1]\n",
    "    return Total\n",
    "\n",
    "def NewWSAA(shield):\n",
    "    ScatterLaser = Shooting(1,4,'Y')\n",
    "    if shield == 1:\n",
    "        SS = Shooting(1,(rand.randint(1,6)+rand.randint(1,6)),'N')\n",
    "        Total = ScatterLaser[1] + SS[1]\n",
    "    else:\n",
    "        Total = ScatterLaser[1]\n",
    "    return Total\n",
    "\n",
    "aa = np.empty([runs,3])\n",
    "for j in range(runs):\n",
    "    aa[j][0] = OldWSAA()\n",
    "    aa[j][1] = NewWSAA(shield=1)\n",
    "    aa[j][2] = NewWSAA(shield=0)\n",
    "\n",
    "plt.hist(aa[:,0],alpha=0.50,color=\"DarkViolet\",histtype=\"stepfilled\")\n",
    "plt.hist(aa[:,1],alpha=0.50,color=\"DeepSkyBlue\",histtype=\"stepfilled\")\n",
    "plt.hist(aa[:,2],alpha=0.50,color=\"ForestGreen\",histtype=\"stepfilled\")\n",
    "plt.xlabel(\"Number of S6+ Hits\")\n",
    "plt.ylabel(\"Number of Simulated Games\")"
   ]
  },
  {
   "cell_type": "markdown",
   "metadata": {},
   "source": [
    "** Sustained AA Fire **\n",
    "\n",
    "How does the situation look with two turns of shooting?"
   ]
  },
  {
   "cell_type": "code",
   "execution_count": 13,
   "metadata": {
    "collapsed": false
   },
   "outputs": [
    {
     "data": {
      "text/plain": [
       "<matplotlib.text.Text at 0x10bd5a390>"
      ]
     },
     "execution_count": 13,
     "metadata": {},
     "output_type": "execute_result"
    },
    {
     "data": {
      "image/png": "[encoded data removed]",
      "text/plain": [
       "<matplotlib.figure.Figure at 0x10bd05610>"
      ]
     },
     "metadata": {},
     "output_type": "display_data"
    }
   ],
   "source": [
    "def OldWSDoubleAA():\n",
    "    Turn1 = OldWSAA()\n",
    "    Turn2 = OldWSAA()\n",
    "    Total = Turn1 + Turn2\n",
    "    return Total\n",
    "def NewWSDoubleAA():\n",
    "    Turn1 = NewWSAA(shield=1)\n",
    "    Turn2 = NewWSAA(shield=0)\n",
    "    Total = Turn1 + Turn2\n",
    "    return Total\n",
    "sustainedaa = np.empty([runs,2])\n",
    "for m in range(runs):\n",
    "    sustainedaa[m][0] = OldWSDoubleAA()\n",
    "    sustainedaa[m][1] = NewWSDoubleAA()\n",
    "plt.hist(sustainedaa[:,0],alpha=0.50,color=\"DarkViolet\",histtype=\"stepfilled\")\n",
    "plt.hist(sustainedaa[:,1],alpha=0.50,color=\"DeepSkyBlue\",histtype=\"stepfilled\")\n",
    "plt.xlabel(\"Number of S6+ Hits\")\n",
    "plt.ylabel(\"Number of Simulated Games\")"
   ]
  },
  {
   "cell_type": "markdown",
   "metadata": {},
   "source": [
    "**Dire Avenger BS 2 Overwatch**\n",
    "\n",
    "This analysis is actually much easier, as it's just two sets of shooting, one at BS1, the other at BS2. Again, we use a histogram to visualize the difference in the two distributions."
   ]
  },
  {
   "cell_type": "code",
   "execution_count": 14,
   "metadata": {
    "collapsed": false
   },
   "outputs": [],
   "source": [
    "overwatch = np.empty([runs,2])"
   ]
  },
  {
   "cell_type": "code",
   "execution_count": 15,
   "metadata": {
    "collapsed": false
   },
   "outputs": [],
   "source": [
    "for k in range(runs):\n",
    "    overwatch[k][0] = Shooting(1,10,'N')[1]\n",
    "    overwatch[k][1] = Shooting(2,10,'N')[1]"
   ]
  },
  {
   "cell_type": "code",
   "execution_count": 16,
   "metadata": {
    "collapsed": false
   },
   "outputs": [
    {
     "data": {
      "text/plain": [
       "<matplotlib.text.Text at 0x10becf490>"
      ]
     },
     "execution_count": 16,
     "metadata": {},
     "output_type": "execute_result"
    },
    {
     "data": {
      "image/png": "[encoded data removed]",
      "text/plain": [
       "<matplotlib.figure.Figure at 0x10bd0dc10>"
      ]
     },
     "metadata": {},
     "output_type": "display_data"
    }
   ],
   "source": [
    "plt.hist(overwatch[:,0],bins=10,alpha=0.50,color=\"DarkViolet\")\n",
    "plt.hist(overwatch[:,1],bins=10,alpha=0.50,color=\"DeepSkyBlue\")\n",
    "plt.xlabel(\"Number of Overwatch Hits\")\n",
    "plt.ylabel(\"Number of Simulated Games\")"
   ]
  },
  {
   "cell_type": "markdown",
   "metadata": {},
   "source": [
    "But what about Counter-attack? Lets expand that overwatch out to a full turn of close combat - overwatch, plus the first round of hits. We're going to cheat a bit and use the shooting function, just engineered to give 4+ hits, which is probably what the Dire Avengers will be doing in close combat. There are 11 close combat attacks (2 * 5 Dire Avengers + Exarch attack) with Counter-attack, and 6 without."
   ]
  },
  {
   "cell_type": "code",
   "execution_count": 17,
   "metadata": {
    "collapsed": false
   },
   "outputs": [],
   "source": [
    "avengercc = np.empty([runs,2])\n",
    "def daccBS1():\n",
    "    overwatch = Shooting(1,10,'N')[1]\n",
    "    closecombat = Shooting(3,11,'N')[1]\n",
    "    total = overwatch + closecombat\n",
    "    return total\n",
    "def daccBS2():\n",
    "    overwatch = Shooting(2,10,'N')[1]\n",
    "    closecombat = Shooting(3,6,'N')[1]\n",
    "    total = overwatch + closecombat\n",
    "    return total\n",
    "\n",
    "for n in range(runs):\n",
    "    avengercc[n][0] = daccBS1()\n",
    "    avengercc[n][1] = daccBS2()\n",
    "    "
   ]
  },
  {
   "cell_type": "code",
   "execution_count": 18,
   "metadata": {
    "collapsed": false
   },
   "outputs": [
    {
     "data": {
      "text/plain": [
       "<matplotlib.text.Text at 0x10bd7b350>"
      ]
     },
     "execution_count": 18,
     "metadata": {},
     "output_type": "execute_result"
    },
    {
     "data": {
      "image/png": "[encoded data removed]",
      "text/plain": [
       "<matplotlib.figure.Figure at 0x10bccf590>"
      ]
     },
     "metadata": {},
     "output_type": "display_data"
    }
   ],
   "source": [
    "plt.hist(avengercc[:,0],bins=10,alpha=0.50,color=\"MediumSeaGreen\")\n",
    "plt.hist(avengercc[:,1],bins=10,alpha=0.50,color=\"LightCoral\")\n",
    "plt.xlabel(\"Number of Hits Taking a Charge\")\n",
    "plt.ylabel(\"Number of Simulated Games\")"
   ]
  },
  {
   "cell_type": "markdown",
   "metadata": {},
   "source": [
    "**Windrider Jetbikes**\n",
    "\n",
    "Analyzing the impact of the windriders, as compared to old style Serpent Spam. Just how many windrider jetbikes does it need to restore that same amount of shooting? We'll borrow the old four turns of shooting function from earlier, and then see how many jetbikes are needed to push a new Wave Serpent + some Jetbikes into looking like an old Wave Serpent, assuming they're using Scatter Lasers."
   ]
  },
  {
   "cell_type": "code",
   "execution_count": 19,
   "metadata": {
    "collapsed": false
   },
   "outputs": [
    {
     "data": {
      "text/plain": [
       "<matplotlib.text.Text at 0x10cebbb90>"
      ]
     },
     "execution_count": 19,
     "metadata": {},
     "output_type": "execute_result"
    },
    {
     "data": {
      "image/png": "[encoded data removed]",
      "text/plain": [
       "<matplotlib.figure.Figure at 0x10ceb2710>"
      ]
     },
     "metadata": {},
     "output_type": "display_data"
    }
   ],
   "source": [
    "def WSScatBikesFourTurns():\n",
    "    Turn1 = NewWS(shield=1)+ Shooting(4,4,'N')[1]\n",
    "    Turn2 = NewWS(shield=0)+ Shooting(4,4,'N')[1]\n",
    "    Turn3 = NewWS(shield=0)+ Shooting(4,4,'N')[1]\n",
    "    Turn4 = NewWS(shield=0)+ Shooting(4,4,'N')[1]\n",
    "    Total = Turn1 + Turn2 + Turn3 + Turn4\n",
    "    return Total\n",
    "\n",
    "windriders = np.empty([runs,2])\n",
    "\n",
    "for w in range(runs):\n",
    "    windriders[w][0] = OldWSFourTurns()\n",
    "    windriders[w][1] = WSScatBikesFourTurns()\n",
    "\n",
    "plt.hist(windriders[:,0],bins=10,alpha=0.50,color=\"MediumSeaGreen\")\n",
    "plt.hist(windriders[:,1],bins=10,alpha=0.50,color=\"LightCoral\")\n",
    "plt.xlabel(\"Number of S6+ Hits\")\n",
    "plt.ylabel(\"Number of Simulated Games\")"
   ]
  },
  {
   "cell_type": "markdown",
   "metadata": {
    "collapsed": true
   },
   "source": [
    "** Wrathguard Analysis **\n",
    "\n",
    "Here I explore the idea that there's a particular \"D-threat Range\", rather than merely Ranged versus Melee Strength D weapons. This is done by comparing the results of a Battle Focus-ranged Wrathguard unit versus the move-and-charge range of an Imperial Knight. We'll assume the Wrathguard unit is close enough to a Spirit Seer to *be* Battle Focused."
   ]
  },
  {
   "cell_type": "code",
   "execution_count": 20,
   "metadata": {
    "collapsed": true
   },
   "outputs": [],
   "source": [
    "dthreat = np.empty([runs,2])\n",
    "\n",
    "def WrathMoveShoot():\n",
    "    # 6\" move + d6 Run + 12\" range Wrathcannon\n",
    "    distance = 6 + 12 + rand.randint(1,6)\n",
    "    return distance\n",
    "\n",
    "def KnightMoveCharge():\n",
    "    # 12\" move + 2d6 Charge\n",
    "    distance = 12 + rand.randint(1,6) + rand.randint(1,6)\n",
    "    return distance\n",
    "\n",
    "for d in range(runs):\n",
    "    dthreat[d][0] = WrathMoveShoot()\n",
    "    dthreat[d][1] = KnightMoveCharge()"
   ]
  },
  {
   "cell_type": "code",
   "execution_count": 21,
   "metadata": {
    "collapsed": false
   },
   "outputs": [
    {
     "data": {
      "text/plain": [
       "<matplotlib.text.Text at 0x10d04f710>"
      ]
     },
     "execution_count": 21,
     "metadata": {},
     "output_type": "execute_result"
    },
    {
     "data": {
      "image/png": "[encoded data removed]",
      "text/plain": [
       "<matplotlib.figure.Figure at 0x10bc03490>"
      ]
     },
     "metadata": {},
     "output_type": "display_data"
    }
   ],
   "source": [
    "plt.hist(dthreat[:,0],bins=10,alpha=0.50,color=\"DarkViolet\")\n",
    "plt.hist(dthreat[:,1],bins=10,alpha=0.50,color=\"DeepSkyBlue\")\n",
    "plt.xlabel(\"Strength D Threat Range\")\n",
    "plt.ylabel(\"Number of Simulated Games\")"
   ]
  },
  {
   "cell_type": "code",
   "execution_count": 22,
   "metadata": {
    "collapsed": false
   },
   "outputs": [
    {
     "data": {
      "text/plain": [
       "<matplotlib.text.Text at 0x10d295190>"
      ]
     },
     "execution_count": 22,
     "metadata": {},
     "output_type": "execute_result"
    },
    {
     "data": {
      "image/png": "[encoded data removed]",
      "text/plain": [
       "<matplotlib.figure.Figure at 0x10c8c0f90>"
      ]
     },
     "metadata": {},
     "output_type": "display_data"
    }
   ],
   "source": [
    "def DFlamerMoveShoot():\n",
    "    # 6\" move + d6 Run + 8\" range Wrathcannon\n",
    "    distance = 6 + 8 + rand.randint(1,6)\n",
    "    return distance\n",
    "\n",
    "dthreat2 = np.empty([runs,2])\n",
    "\n",
    "for e in range(runs):\n",
    "    dthreat2[e][0] = DFlamerMoveShoot()\n",
    "    dthreat2[e][1] = KnightMoveCharge()\n",
    "\n",
    "plt.hist(dthreat2[:,0],bins=10,alpha=0.50,color=\"DarkViolet\")\n",
    "plt.hist(dthreat2[:,1],bins=10,alpha=0.50,color=\"DeepSkyBlue\")\n",
    "plt.xlabel(\"Strength D Threat Range\")\n",
    "plt.ylabel(\"Number of Simulated Games\")"
   ]
  },
  {
   "cell_type": "code",
   "execution_count": 23,
   "metadata": {
    "collapsed": false
   },
   "outputs": [],
   "source": [
    "#35/257 = 13.6%"
   ]
  },
  {
   "cell_type": "markdown",
   "metadata": {
    "collapsed": true
   },
   "source": [
    "To properly look at the impact of changing *Distort* weapons from whatever they once were to Strength D, we need to model not only the number of hits, but the number of wounds done. Which means a new function. And a fairly complex one because of the nested branching that the to-wound roll with and without Strength D. We'll also need a function to look at hits to tanks and other vehicles."
   ]
  },
  {
   "cell_type": "code",
   "execution_count": 273,
   "metadata": {
    "collapsed": false
   },
   "outputs": [],
   "source": [
    "# SAVE MUST BE MANUALLY SET - NOT AUTO-DETERMINED BY Save vs. AP\n",
    "def Wounding(strength,toughness,save,n_hits,woundspermodel,auto):\n",
    "    try:\n",
    "        toughness = int(toughness)\n",
    "    except ValueError:\n",
    "        print(\"Target toughness needs to be an integer\")\n",
    "    try:\n",
    "        save = int(save)\n",
    "    except ValueError:\n",
    "        print(\"Save needs to be an integer (e.g. 3+ = 3)\")\n",
    "    try:\n",
    "        n_hits = int(n_hits)\n",
    "    except ValueError:\n",
    "        print(\"The number of hits needs to be an integer\")\n",
    "    if strength == \"D\":\n",
    "        pass\n",
    "    elif strength == \"D-1\":\n",
    "        pass\n",
    "    else:\n",
    "        try:\n",
    "            strength = int(strength)\n",
    "        except ValueError:\n",
    "            print(\"Strength must be an integer or D\")\n",
    "\n",
    "    woundrolls = DiceRoller(n_hits)\n",
    "    \n",
    "    if auto == 0:\n",
    "        if strength == \"D\":\n",
    "            NoSaveD = np.sum(woundrolls==6)\n",
    "            SaveD = np.sum(1<woundrolls) - NoSaveD\n",
    "            saverolls = DiceRoller(SaveD)\n",
    "            unsaved = np.sum(saverolls<save)\n",
    "            unsaved_expanded = 0\n",
    "            for k in range(unsaved):\n",
    "                unsaved_expanded = unsaved_expanded + min(woundspermodel,rand.randint(1,3))\n",
    "            for j in range(NoSaveD):\n",
    "                unsaved_expanded = unsaved_expanded + min(woundspermodel,(rand.randint(1,6)+6))\n",
    "            finalwounds = unsaved_expanded\n",
    "        elif strength == \"D-1\":\n",
    "            SaveD = np.sum(2<woundrolls)\n",
    "            saverolls = DiceRoller(SaveD)\n",
    "            unsaved = np.sum(saverolls<save)\n",
    "            unsaved_expanded = 0\n",
    "            for k in range(unsaved):\n",
    "                unsaved_expanded = unsaved_expanded + min(woundspermodel,rand.randint(1,3))\n",
    "            finalwounds = unsaved_expanded\n",
    "        \n",
    "        else:\n",
    "            SvTDiff = strength-toughness\n",
    "            ToWound = max(2,4-SvTDiff)\n",
    "            wounds = np.sum(woundrolls.__ge__(ToWound))\n",
    "            saverolls = DiceRoller(wounds)\n",
    "            unsaved = np.sum(saverolls<(save))\n",
    "            finalwounds = unsaved\n",
    "            \n",
    "    else:\n",
    "        if strength == \"D\":\n",
    "            NoSaveD = np.sum(woundrolls==6)\n",
    "            SaveD = np.sum(1<woundrolls) - NoSaveD\n",
    "            saverolls = DiceRoller(SaveD)\n",
    "            unsaved = np.sum(saverolls<save)\n",
    "            unsaved_expanded = 0\n",
    "            for k in range(unsaved):\n",
    "                unsaved_expanded = unsaved_expanded + min(woundspermodel,rand.randint(1,3))\n",
    "            for j in range(NoSaveD):\n",
    "                unsaved_expanded = unsaved_expanded + min(woundspermodel,(rand.randint(1,6)+6))\n",
    "            finalwounds = unsaved_expanded\n",
    "        elif strength == \"D-1\":\n",
    "            SaveD = np.sum(2<woundrolls)\n",
    "            saverolls = DiceRoller(SaveD)\n",
    "            unsaved = np.sum(saverolls<save)\n",
    "            unsaved_expanded = 0\n",
    "            for k in range(unsaved):\n",
    "                unsaved_expanded = unsaved_expanded + min(woundspermodel,rand.randint(1,3))\n",
    "            finalwounds = unsaved_expanded\n",
    "        \n",
    "        else:\n",
    "            SvTDiff = strength-toughness\n",
    "            autowounds = np.sum(woundrolls>=auto)\n",
    "            ToWound = max(2,4-SvTDiff)\n",
    "            wounds = np.sum(woundrolls.__ge__(ToWound))\n",
    "            if ToWound > 6:\n",
    "                truewounds = autowounds\n",
    "            else:\n",
    "                truewounds = wounds\n",
    "            saverolls = DiceRoller(truewounds)\n",
    "            unsaved = np.sum(saverolls<(save))\n",
    "            finalwounds = unsaved\n",
    "        \n",
    "    return finalwounds\n",
    "\n",
    "def ArmorPen(strength,AV,save,n_hits,hullpoints):\n",
    "    try:\n",
    "        AV = int(AV)\n",
    "    except ValueError:\n",
    "        print(\"Target Armor Value needs to be an integer\")\n",
    "    try:\n",
    "        save = int(save)\n",
    "    except ValueError:\n",
    "        print(\"Save needs to be an integer (e.g. 3+ = 3)\")\n",
    "    try:\n",
    "        n_hits = int(n_hits)\n",
    "    except ValueError:\n",
    "        print(\"The number of hits needs to be an integer\")\n",
    "    if strength == \"D\":\n",
    "        pass\n",
    "    else:\n",
    "        try:\n",
    "            strength = int(strength)\n",
    "        except ValueError:\n",
    "            print(\"Strength must be an integer or D\")\n",
    "    \n",
    "    if strength == \"D\":\n",
    "        penrolls = DiceRoller(n_hits)\n",
    "        NoSaveD = np.sum(penrolls==6)\n",
    "        SaveD = np.sum(1<penrolls) - NoSaveD\n",
    "        saverolls = DiceRoller(SaveD)\n",
    "        unsaved = np.sum(saverolls<save)\n",
    "        unsaved_expanded = 0\n",
    "        for k in range(unsaved):\n",
    "            unsaved_expanded = unsaved_expanded + min(hullpoints,rand.randint(1,3))\n",
    "        for j in range(NoSaveD):\n",
    "            unsaved_expanded = unsaved_expanded + min(hullpoints,(rand.randint(1,6)+6))\n",
    "        final = min(hullpoints,unsaved_expanded)\n",
    "    else:\n",
    "        penrolls = DiceRoller(n_hits) + strength\n",
    "        pen_and_glance = np.sum(penrolls.__ge__(AV))\n",
    "        glances = np.sum(penrolls==AV)\n",
    "        pens = pen_and_glance - glances\n",
    "        saverolls = DiceRoller(pen_and_glance)\n",
    "        unsaved = np.sum(saverolls<(save))\n",
    "        final = min(hullpoints,unsaved)\n",
    "        \n",
    "    return final"
   ]
  },
  {
   "cell_type": "code",
   "execution_count": 276,
   "metadata": {
    "collapsed": false
   },
   "outputs": [],
   "source": [
    "def OldWrathguardInfantry(size,enemyT,enemySave,enemyW):\n",
    "    WrathcannonShots = Shooting(4,size,'N')[1]\n",
    "    WrathcannonWounds = Wounding(10,enemyT,enemySave,WrathcannonShots,enemyW,auto=6)\n",
    "    return WrathcannonWounds\n",
    "\n",
    "def NewWrathguardInfantry(size,enemyT,enemySave,enemyW):\n",
    "    WrathcannonShots = Shooting(4,size,'N')[1]\n",
    "    WrathcannonWounds = Wounding(\"D\",enemyT,enemySave,WrathcannonShots,enemyW,auto=0)\n",
    "    return WrathcannonWounds\n",
    "\n",
    "def OldDscythe(size,enemyT,enemySave,enemyW):\n",
    "    WrathcannonShots = Shooting(4,size,'N')[1]\n",
    "    WrathcannonWounds = Wounding(4,enemyT,enemySave,WrathcannonShots,enemyW,auto=6)\n",
    "    return WrathcannonWounds\n",
    "\n",
    "def NewDscythe(size,enemyT,enemySave,enemyW):\n",
    "    WrathcannonShots = Shooting(4,size,'N')[1]\n",
    "    WrathcannonWounds = Wounding(\"D-1\",enemyT,enemySave,WrathcannonShots,enemyW,auto=0)\n",
    "    return WrathcannonWounds\n",
    "\n",
    "def OldWrathguardTank(size,AV,enemySave,HP):\n",
    "    WrathcannonShots = Shooting(4,size,'N')[1]\n",
    "    WrathcannonGorP = ArmorPen(10,AV,enemySave,WrathcannonShots,HP,auto=6)\n",
    "    return WrathcannonGorP\n",
    "\n",
    "def NewWrathguardTank(size,AV,enemySave,HP):\n",
    "    WrathcannonShots = Shooting(4,size,'N')[1]\n",
    "    WrathcannonGorP = ArmorPen(\"D\",AV,enemySave,WrathcannonShots,HP,auto=0)\n",
    "    return WrathcannonGorP"
   ]
  },
  {
   "cell_type": "markdown",
   "metadata": {},
   "source": [
    "**Examining new vs. Old Wrathguard armed with Wrathcannons.**"
   ]
  },
  {
   "cell_type": "markdown",
   "metadata": {},
   "source": [
    "versus Space Marines. Save of \"7\" implies no save vs. AP 2 shots."
   ]
  },
  {
   "cell_type": "code",
   "execution_count": 277,
   "metadata": {
    "collapsed": false
   },
   "outputs": [
    {
     "data": {
      "text/plain": [
       "<matplotlib.text.Text at 0x1126cea10>"
      ]
     },
     "execution_count": 277,
     "metadata": {},
     "output_type": "execute_result"
    },
    {
     "data": {
      "image/png": "[encoded data removed]",
      "text/plain": [
       "<matplotlib.figure.Figure at 0x1125c15d0>"
      ]
     },
     "metadata": {},
     "output_type": "display_data"
    }
   ],
   "source": [
    "WrathcannonVMarines = np.empty([runs,2])\n",
    "\n",
    "for f in range(runs):\n",
    "    WrathcannonVMarines[f][0] = OldWrathguardInfantry(5,4,7,1)\n",
    "    WrathcannonVMarines[f][1] = NewWrathguardInfantry(5,4,7,1)\n",
    "    \n",
    "plt.hist(WrathcannonVMarines[:,0],bins=10,alpha=0.50,color=\"DarkViolet\")\n",
    "plt.hist(WrathcannonVMarines[:,1],bins=10,alpha=0.50,color=\"DeepSkyBlue\")\n",
    "plt.xlabel(\"Number of Space Marine Casualties\")\n",
    "plt.ylabel(\"Number of Simulated Games\")"
   ]
  },
  {
   "cell_type": "markdown",
   "metadata": {},
   "source": [
    "versus two Talos-esq Monsterous Creatures, each with T7 and 3 Wounds. Again, save of 7 implies no save vs. AP 2."
   ]
  },
  {
   "cell_type": "code",
   "execution_count": 228,
   "metadata": {
    "collapsed": false
   },
   "outputs": [
    {
     "data": {
      "text/plain": [
       "<matplotlib.text.Text at 0x111c67a90>"
      ]
     },
     "execution_count": 228,
     "metadata": {},
     "output_type": "execute_result"
    },
    {
     "data": {
      "image/png": "[encoded data removed]",
      "text/plain": [
       "<matplotlib.figure.Figure at 0x10fbb3410>"
      ]
     },
     "metadata": {},
     "output_type": "display_data"
    }
   ],
   "source": [
    "WrathcannonVMC = np.empty([runs,2])\n",
    "\n",
    "for g in range(runs):\n",
    "    WrathcannonVMC[g][0] = OldWrathguardInfantry(5,7,7,3)\n",
    "    WrathcannonVMC[g][1] = NewWrathguardInfantry(5,7,7,3)\n",
    "\n",
    "plt.hist(WrathcannonVMC[:,0],bins=10,alpha=0.50,color=\"DarkViolet\")\n",
    "plt.hist(WrathcannonVMC[:,1],bins=10,alpha=0.50,color=\"DeepSkyBlue\")\n",
    "plt.xlabel(\"Number of Unsaved Wounds\")\n",
    "plt.ylabel(\"Number of Simulated Games\")"
   ]
  },
  {
   "cell_type": "code",
   "execution_count": 278,
   "metadata": {
    "collapsed": false
   },
   "outputs": [
    {
     "data": {
      "text/plain": [
       "<matplotlib.text.Text at 0x1134281d0>"
      ]
     },
     "execution_count": 278,
     "metadata": {},
     "output_type": "execute_result"
    },
    {
     "data": {
      "image/png": "[encoded data removed]",
      "text/plain": [
       "<matplotlib.figure.Figure at 0x11266d390>"
      ]
     },
     "metadata": {},
     "output_type": "display_data"
    }
   ],
   "source": [
    "WrathcannonVMC2 = np.empty([runs,2])\n",
    "\n",
    "for gg in range(runs):\n",
    "    WrathcannonVMC2[gg][0] = OldDscythe(10,7,3,3)\n",
    "    WrathcannonVMC2[gg][1] = NewDscythe(10,7,3,3)\n",
    "\n",
    "plt.hist(WrathcannonVMC2[:,0],bins=10,alpha=0.50,color=\"DarkViolet\")\n",
    "plt.hist(WrathcannonVMC2[:,1],bins=10,alpha=0.50,color=\"DeepSkyBlue\")\n",
    "plt.xlabel(\"Number of Unsaved Wounds\")\n",
    "plt.ylabel(\"Number of Simulated Games\")"
   ]
  },
  {
   "cell_type": "code",
   "execution_count": 272,
   "metadata": {
    "collapsed": false
   },
   "outputs": [
    {
     "name": "stdout",
     "output_type": "stream",
     "text": [
      "(10, array([[4, 4, 3, 3, 1, 6, 1, 5, 3, 4]]), 1, 0, 1, array([[4]]), 1)\n"
     ]
    }
   ],
   "source": [
    "\n",
    "\n",
    "a = Wounding2(4,10,7,10,3,auto=6)\n",
    "print a\n",
    "#def OldDscythe2(size,enemyT,enemySave,enemyW):\n",
    "#    WrathcannonShots = Shooting(4,size,'N')[1]\n",
    "#    WrathcannonWounds = Wounding(4,enemyT,enemySave,WrathcannonShots,enemyW,auto=2)\n",
    "#    return WrathcannonShots,WrathcannonWounds\n",
    "\n",
    "#a = OldDscythe2(10,7,3,3)\n",
    "#print a\n",
    "\n",
    "#b = Wounding(4,10,7,10,3,auto=2)\n",
    "#print b"
   ]
  },
  {
   "cell_type": "markdown",
   "metadata": {},
   "source": [
    "Now we'll compare the two units versus two types of tanks - something Chimera-esq, and something Land Raider-esq, neither one of which has a save. Note that here we are just looking at hull point damage, rather than the effect of penetrating hits."
   ]
  },
  {
   "cell_type": "code",
   "execution_count": 197,
   "metadata": {
    "collapsed": false
   },
   "outputs": [
    {
     "data": {
      "text/plain": [
       "<matplotlib.text.Text at 0x10f690990>"
      ]
     },
     "execution_count": 197,
     "metadata": {},
     "output_type": "execute_result"
    },
    {
     "data": {
      "image/png": "[encoded data removed]",
      "text/plain": [
       "<matplotlib.figure.Figure at 0x10f292750>"
      ]
     },
     "metadata": {},
     "output_type": "display_data"
    }
   ],
   "source": [
    "WrathcannonVChimera = np.empty([runs,2])\n",
    "\n",
    "for h in range(runs):\n",
    "    WrathcannonVChimera[h][0] = OldWrathguardTank(5,12,7,3)\n",
    "    WrathcannonVChimera[h][1] = NewWrathguardTank(5,12,7,3)\n",
    "\n",
    "plt.hist(WrathcannonVChimera[:,0],bins=10,alpha=0.50,color=\"DarkViolet\")\n",
    "plt.hist(WrathcannonVChimera[:,1],bins=10,alpha=0.50,color=\"DeepSkyBlue\")\n",
    "plt.xlabel(\"Number of Hull Points Removed\")\n",
    "plt.ylabel(\"Number of Simulated Games\")"
   ]
  },
  {
   "cell_type": "code",
   "execution_count": 196,
   "metadata": {
    "collapsed": false
   },
   "outputs": [
    {
     "data": {
      "text/plain": [
       "<matplotlib.text.Text at 0x10f4d0b90>"
      ]
     },
     "execution_count": 196,
     "metadata": {},
     "output_type": "execute_result"
    },
    {
     "data": {
      "image/png": "[encoded data removed]",
      "text/plain": [
       "<matplotlib.figure.Figure at 0x10f2254d0>"
      ]
     },
     "metadata": {},
     "output_type": "display_data"
    }
   ],
   "source": [
    "WrathcannonVLR = np.empty([runs,2])\n",
    "\n",
    "for o in range(runs):\n",
    "    WrathcannonVLR[o][0] = OldWrathguardTank(5,14,7,4)\n",
    "    WrathcannonVLR[o][1] = NewWrathguardTank(5,14,7,4)\n",
    "\n",
    "plt.hist(WrathcannonVLR[:,0],bins=10,alpha=0.50,color=\"DarkViolet\")\n",
    "plt.hist(WrathcannonVLR[:,1],bins=10,alpha=0.50,color=\"DeepSkyBlue\")\n",
    "plt.xlabel(\"Number of Hull Points Removed\")\n",
    "plt.ylabel(\"Number of Simulated Games\")"
   ]
  },
  {
   "cell_type": "code",
   "execution_count": null,
   "metadata": {
    "collapsed": true
   },
   "outputs": [],
   "source": []
  }
 ],
 "metadata": {
  "kernelspec": {
   "display_name": "Python 2",
   "language": "python",
   "name": "python2"
  },
  "language_info": {
   "codemirror_mode": {
    "name": "ipython",
    "version": 2
   },
   "file_extension": ".py",
   "mimetype": "text/x-python",
   "name": "python",
   "nbconvert_exporter": "python",
   "pygments_lexer": "ipython2",
   "version": "2.7.11"
  }
 },
 "nbformat": 4,
 "nbformat_minor": 0
}
