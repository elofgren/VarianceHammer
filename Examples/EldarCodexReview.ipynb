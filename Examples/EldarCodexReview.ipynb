{
 "cells": [
  {
   "cell_type": "markdown",
   "metadata": {},
   "source": [
    "Code for Variance Hammer's Eldar Codex Review\n",
    "========================\n",
    "This code is for the analysis of the effect of the changes to the Wave Serpent's Serpent Shield, as well as the impact of Dire Avengers being able to Overwatch at BS 2. The text of the review itself is at: http://www.variancehammer.com/ . Note that because this analysis uses random numbers, any results you obtain may differ from those on the blog posting due to random chance.\n"
   ]
  },
  {
   "cell_type": "markdown",
   "metadata": {},
   "source": [
    "**Import the necessary libraries**  \n",
    "\n",
    "These are easily obtained using the Anaconda Python Distribution, which is available free from http://www.continuum.io"
   ]
  },
  {
   "cell_type": "code",
   "execution_count": 1,
   "metadata": {
    "collapsed": true
   },
   "outputs": [],
   "source": [
    "%matplotlib inline"
   ]
  },
  {
   "cell_type": "code",
   "execution_count": 2,
   "metadata": {
    "collapsed": true
   },
   "outputs": [],
   "source": [
    "import numpy as np\n",
    "import random as rand\n",
    "import seaborn as sns\n",
    "import matplotlib as mpl\n",
    "import matplotlib.pyplot as plt"
   ]
  },
  {
   "cell_type": "markdown",
   "metadata": {},
   "source": [
    "As there is no Variance Hammer library available (yet), we need to define a couple useful functions. *DiceRoller()* is a function to roll an arbitrary number of d6 dice. *Shooting()* does what it says on the tin - it takes a number of shots, rolls the appropriate number of d6 dice, checks those results against Ballistic Skill, and if the shots are twin-linked, rerolls as appropriate. Note that at the moment this function **does not** work for BS values above 6."
   ]
  },
  {
   "cell_type": "code",
   "execution_count": 3,
   "metadata": {
    "collapsed": true
   },
   "outputs": [],
   "source": [
    "def DiceRoller(n_rolls):\n",
    "\ttry:\n",
    "\t\tdice = int(n_rolls)\n",
    "\texcept ValueError:\n",
    "\t\tprint(\"Number of dice to roll needs to be an integer\")\n",
    "\trolls = np.random.random_integers(6, size=(1.,dice))\n",
    "\treturn rolls"
   ]
  },
  {
   "cell_type": "code",
   "execution_count": 4,
   "metadata": {
    "collapsed": false
   },
   "outputs": [],
   "source": [
    "def Shooting(BS, n_shots, twinlinked):\n",
    "    try:\n",
    "        BS = int(BS)\n",
    "    except ValueError:\n",
    "        print(\"BS needs to be an integer\")\n",
    "    try:\n",
    "        n_shots = int(n_shots)\n",
    "    except ValueError:\n",
    "        print(\"Number of shots needs to be an integer\")\n",
    "    if twinlinked == \"Y\":\n",
    "        shots = DiceRoller(n_shots)\n",
    "        shots[shots > BS] = rand.randint(1,6)\n",
    "    elif twinlinked ==\"N\":\n",
    "        shots = DiceRoller(n_shots)\n",
    "    else:\n",
    "        print(\"Designate Twin-linking with Y or N. Assumed to be off.\")\n",
    "        shots = DiceRoller(n_shots)\n",
    "\n",
    "    hits = np.sum(shots.__ge__(7-BS))\n",
    "    return shots,hits"
   ]
  },
  {
   "cell_type": "markdown",
   "metadata": {},
   "source": [
    "**Wave Serpent Changes**\n",
    "\n",
    "Finally, we get to the actual analysis. Here, we build a function for an \"old\" 6th edition Wave Serpent firing both a twin-linked Scatter Laser and it's Serpent Shield for a turn, handling the twin-linking induced by Laser Lock if the Scatter Laser hits. Then we apply this for four turns worth of shooting.\n",
    "\n",
    "The \"new\" 7th edition Wave Serpent needs a slightly different function, as Laser Lock is no longer a rule, and we need to know if the Serpent Shield is available to fire. Then we apply the same idea - four turns of shooting, one with the Shield firing, the others without.\n",
    "\n",
    "Once we have those, we simulate a number of games, collect the results, and compare them using a histogram - 6th edition is in purple, and 7th edition is in Tarheel Blue."
   ]
  },
  {
   "cell_type": "code",
   "execution_count": 5,
   "metadata": {
    "collapsed": false
   },
   "outputs": [],
   "source": [
    "def OldWS():\n",
    "    ScatterLaser = Shooting(4,4,'Y')\n",
    "    if ScatterLaser[1] >= 1:\n",
    "        SS = Shooting(4,(rand.randint(1,6)+1),'Y')\n",
    "    else:\n",
    "        SS = Shooting(4,(rand.randint(1,6)+1),'N')\n",
    "    Total = ScatterLaser[1] + SS[1]\n",
    "    return Total\n",
    "\n",
    "def OldWSFourTurns():\n",
    "    Turn1 = OldWS()\n",
    "    Turn2 = OldWS()\n",
    "    Turn3 = OldWS()\n",
    "    Turn4 = OldWS()\n",
    "    Total = Turn1 + Turn2 + Turn3 + Turn4\n",
    "    return Total"
   ]
  },
  {
   "cell_type": "code",
   "execution_count": 6,
   "metadata": {
    "collapsed": false
   },
   "outputs": [],
   "source": [
    "def NewWS(shield):\n",
    "    ScatterLaser = Shooting(4,4,'Y')\n",
    "    if shield == 1:\n",
    "        SS = Shooting(4,(rand.randint(1,6)+rand.randint(1,6)),'N')\n",
    "        Total = ScatterLaser[1] + SS[1]\n",
    "    else:\n",
    "        Total = ScatterLaser[1]\n",
    "    return Total\n",
    "\n",
    "def NewWSFourTurns():\n",
    "    Turn1 = NewWS(shield=1)\n",
    "    Turn2 = NewWS(shield=0)\n",
    "    Turn3 = NewWS(shield=0)\n",
    "    Turn4 = NewWS(shield=0)\n",
    "    Total = Turn1 + Turn2 + Turn3 + Turn4\n",
    "    return Total"
   ]
  },
  {
   "cell_type": "code",
   "execution_count": 7,
   "metadata": {
    "collapsed": false
   },
   "outputs": [],
   "source": [
    "runs = 2500"
   ]
  },
  {
   "cell_type": "code",
   "execution_count": 8,
   "metadata": {
    "collapsed": false
   },
   "outputs": [],
   "source": [
    "wscomparison = np.empty([runs,2])"
   ]
  },
  {
   "cell_type": "code",
   "execution_count": 9,
   "metadata": {
    "collapsed": false
   },
   "outputs": [],
   "source": [
    "for i in range(runs):\n",
    "    wscomparison[i][0] = OldWSFourTurns()\n",
    "    wscomparison[i][1] = NewWSFourTurns()"
   ]
  },
  {
   "cell_type": "code",
   "execution_count": 10,
   "metadata": {
    "collapsed": true
   },
   "outputs": [],
   "source": [
    "sns.set_palette(\"deep\", desat=.6)\n",
    "sns.set_context(rc={\"figure.figsize\": (8, 4)})"
   ]
  },
  {
   "cell_type": "code",
   "execution_count": 11,
   "metadata": {
    "collapsed": false
   },
   "outputs": [
    {
     "data": {
      "text/plain": [
       "<matplotlib.text.Text at 0x10c445ad0>"
      ]
     },
     "execution_count": 11,
     "metadata": {},
     "output_type": "execute_result"
    },
    {
     "data": {
      "image/png": "[encoded data removed]",
      "text/plain": [
       "<matplotlib.figure.Figure at 0x108474150>"
      ]
     },
     "metadata": {},
     "output_type": "display_data"
    }
   ],
   "source": [
    "plt.hist(wscomparison[:,0],alpha=0.50,bins=10,color=\"DarkViolet\",histtype=\"stepfilled\")\n",
    "plt.hist(wscomparison[:,1],alpha=0.50,bins=10,color=\"DeepSkyBlue\",histtype=\"stepfilled\")\n",
    "plt.xlabel(\"Number of S6+ Hits\")\n",
    "plt.ylabel(\"Number of Simulated Games\")"
   ]
  },
  {
   "cell_type": "markdown",
   "metadata": {},
   "source": [
    "**Dire Avenger BS 2 Overwatch**\n",
    "\n",
    "This analysis is actually much easier, as it's just two sets of shooting, one at BS1, the other at BS2. Again, we use a histogram to visualize the difference in the two distributions."
   ]
  },
  {
   "cell_type": "code",
   "execution_count": 12,
   "metadata": {
    "collapsed": false
   },
   "outputs": [],
   "source": [
    "overwatch = np.empty([runs,2])"
   ]
  },
  {
   "cell_type": "code",
   "execution_count": 13,
   "metadata": {
    "collapsed": false
   },
   "outputs": [],
   "source": [
    "for k in range(runs):\n",
    "    overwatch[k][0] = Shooting(1,10,'N')[1]\n",
    "    overwatch[k][1] = Shooting(2,10,'N')[1]"
   ]
  },
  {
   "cell_type": "code",
   "execution_count": 14,
   "metadata": {
    "collapsed": false
   },
   "outputs": [
    {
     "name": "stdout",
     "output_type": "stream",
     "text": [
      "[[ 3.  5.]\n",
      " [ 2.  5.]\n",
      " [ 2.  4.]\n",
      " ..., \n",
      " [ 3.  3.]\n",
      " [ 2.  3.]\n",
      " [ 2.  0.]]\n"
     ]
    }
   ],
   "source": [
    "print overwatch"
   ]
  },
  {
   "cell_type": "code",
   "execution_count": 15,
   "metadata": {
    "collapsed": false
   },
   "outputs": [
    {
     "data": {
      "text/plain": [
       "<matplotlib.text.Text at 0x10c662250>"
      ]
     },
     "execution_count": 15,
     "metadata": {},
     "output_type": "execute_result"
    },
    {
     "data": {
      "image/png": "[encoded data removed]",
      "text/plain": [
       "<matplotlib.figure.Figure at 0x1066aed50>"
      ]
     },
     "metadata": {},
     "output_type": "display_data"
    }
   ],
   "source": [
    "plt.hist(overwatch[:,0],bins=10,alpha=0.50,color=\"DarkViolet\")\n",
    "plt.hist(overwatch[:,1],bins=10,alpha=0.50,color=\"DeepSkyBlue\")\n",
    "plt.xlabel(\"Number of Overwatch Hits\")\n",
    "plt.ylabel(\"Number of Simulated Games\")"
   ]
  },
  {
   "cell_type": "markdown",
   "metadata": {},
   "source": [
    "But what about Counter-attack? Lets expand that overwatch out to a full turn of close combat - overwatch, plus the first round of hits. We're going to cheat a bit and use the shooting function, just engineered to give 4+ hits, which is probably what the Dire Avengers will be doing in close combat. There are 11 close combat attacks (2 * 5 Dire Avengers + Exarch attack) with Counter-attack, and 6 without."
   ]
  },
  {
   "cell_type": "code",
   "execution_count": 21,
   "metadata": {
    "collapsed": false
   },
   "outputs": [],
   "source": [
    "avengercc = np.empty([runs,2])\n",
    "def daccBS1():\n",
    "    overwatch = Shooting(1,10,'N')[1]\n",
    "    closecombat = Shooting(3,11,'N')[1]\n",
    "    total = overwatch + closecombat\n",
    "    return total\n",
    "def daccBS2():\n",
    "    overwatch = Shooting(2,10,'N')[1]\n",
    "    closecombat = Shooting(3,6,'N')[1]\n",
    "    total = overwatch + closecombat\n",
    "    return total\n",
    "\n",
    "for n in range(runs):\n",
    "    avengercc[n][0] = daccBS1()\n",
    "    avengercc[n][1] = daccBS2()\n",
    "    "
   ]
  },
  {
   "cell_type": "code",
   "execution_count": 24,
   "metadata": {
    "collapsed": false
   },
   "outputs": [
    {
     "data": {
      "text/plain": [
       "<matplotlib.text.Text at 0x10ca98b50>"
      ]
     },
     "execution_count": 24,
     "metadata": {},
     "output_type": "execute_result"
    },
    {
     "data": {
      "image/png": "[encoded data removed]",
      "text/plain": [
       "<matplotlib.figure.Figure at 0x10c680f90>"
      ]
     },
     "metadata": {},
     "output_type": "display_data"
    }
   ],
   "source": [
    "plt.hist(avengercc[:,0],bins=10,alpha=0.50,color=\"MediumSeaGreen\")\n",
    "plt.hist(avengercc[:,1],bins=10,alpha=0.50,color=\"LightCoral\")\n",
    "plt.xlabel(\"Number of Hits Taking a Charge\")\n",
    "plt.ylabel(\"Number of Simulated Games\")"
   ]
  },
  {
   "cell_type": "code",
   "execution_count": null,
   "metadata": {
    "collapsed": true
   },
   "outputs": [],
   "source": []
  }
 ],
 "metadata": {
  "kernelspec": {
   "display_name": "Python 2",
   "language": "python",
   "name": "python2"
  },
  "language_info": {
   "codemirror_mode": {
    "name": "ipython",
    "version": 2
   },
   "file_extension": ".py",
   "mimetype": "text/x-python",
   "name": "python",
   "nbconvert_exporter": "python",
   "pygments_lexer": "ipython2",
   "version": "2.7.9"
  }
 },
 "nbformat": 4,
 "nbformat_minor": 0
}
