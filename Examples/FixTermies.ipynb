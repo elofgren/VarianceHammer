{
 "cells": [
  {
   "cell_type": "markdown",
   "metadata": {},
   "source": [
    "Code for Variance Hammer's Analysis of Curse of the Wulfen\n",
    "==============================\n",
    "This code is for the analysis accompanying the post on the Warzone Fenris supplement. The text of the post itself can be found at: http://www.variancehammer.com. Note that because this analysis uses random numbers, any results you obtain may differ from those on the blog posting due to random chance."
   ]
  },
  {
   "cell_type": "markdown",
   "metadata": {},
   "source": [
    "**Import the necessary libraries**  \n",
    "\n",
    "These are easily obtained using the Anaconda Python Distribution, which is available free from http://www.continuum.io"
   ]
  },
  {
   "cell_type": "code",
   "execution_count": 2,
   "metadata": {
    "collapsed": false
   },
   "outputs": [
    {
     "name": "stderr",
     "output_type": "stream",
     "text": [
      "/Users/elofgren/anaconda/lib/python2.7/site-packages/matplotlib/font_manager.py:273: UserWarning: Matplotlib is building the font cache using fc-list. This may take a moment.\n",
      "  warnings.warn('Matplotlib is building the font cache using fc-list. This may take a moment.')\n"
     ]
    }
   ],
   "source": [
    "%matplotlib inline"
   ]
  },
  {
   "cell_type": "code",
   "execution_count": 3,
   "metadata": {
    "collapsed": false
   },
   "outputs": [],
   "source": [
    "import numpy as np\n",
    "import random as rand\n",
    "import seaborn as sns\n",
    "import matplotlib as mpl\n",
    "import matplotlib.pyplot as plt\n",
    "from __future__ import division"
   ]
  },
  {
   "cell_type": "code",
   "execution_count": 4,
   "metadata": {
    "collapsed": true
   },
   "outputs": [],
   "source": [
    "# Graphic and Simulation parameters\n",
    "sns.set_palette(\"deep\", desat=.6)\n",
    "sns.set_context(rc={\"figure.figsize\": (8, 4)})\n",
    "runs = 10000"
   ]
  },
  {
   "cell_type": "markdown",
   "metadata": {},
   "source": [
    "As there is no Variance Hammer library available (yet), we need to define a couple useful functions. DiceRoller() is a function to roll an arbitrary number of d6 dice. Shooting() does what it says on the tin - it takes a number of shots, rolls the appropriate number of d6 dice, checks those results against Ballistic Skill, and if the shots are twin-linked, rerolls as appropriate. Note that at the moment this function does not work for BS values above 6."
   ]
  },
  {
   "cell_type": "code",
   "execution_count": 5,
   "metadata": {
    "collapsed": true
   },
   "outputs": [],
   "source": [
    "def DiceRoller(n_rolls):\n",
    "\ttry:\n",
    "\t\tdice = int(n_rolls)\n",
    "\texcept ValueError:\n",
    "\t\tprint(\"Number of dice to roll needs to be an integer\")\n",
    "\trolls = np.random.random_integers(6, size=(1.,dice))\n",
    "\treturn rolls"
   ]
  },
  {
   "cell_type": "markdown",
   "metadata": {},
   "source": [
    "Analysis of Elite CC Unit Mobility"
   ]
  },
  {
   "cell_type": "code",
   "execution_count": 6,
   "metadata": {
    "collapsed": true
   },
   "outputs": [],
   "source": [
    "move = np.empty([runs,3])"
   ]
  },
  {
   "cell_type": "code",
   "execution_count": 7,
   "metadata": {
    "collapsed": true
   },
   "outputs": [],
   "source": [
    "def Shooting(BS, n_shots, twinlinked):\n",
    "    try:\n",
    "        BS = int(BS)\n",
    "    except ValueError:\n",
    "        print(\"BS needs to be an integer\")\n",
    "    try:\n",
    "        n_shots = int(n_shots)\n",
    "    except ValueError:\n",
    "        print(\"Number of shots needs to be an integer\")\n",
    "    if twinlinked == \"Y\":\n",
    "        shots = DiceRoller(n_shots)\n",
    "        shots[shots < (7-BS)] = rand.randint(1,6)\n",
    "    elif twinlinked ==\"N\":\n",
    "        shots = DiceRoller(n_shots)\n",
    "    else:\n",
    "        print(\"Designate Twin-linking with Y or N. Assumed to be off.\")\n",
    "        shots = DiceRoller(n_shots)\n",
    "\n",
    "    hits = np.sum(shots.__ge__(7-BS))\n",
    "    return shots,hits\n",
    "\n",
    "def Wounding(strength,toughness,save,n_hits,woundspermodel,auto,rend):\n",
    "    try:\n",
    "        toughness = int(toughness)\n",
    "    except ValueError:\n",
    "        print(\"Target toughness needs to be an integer\")\n",
    "    try:\n",
    "        save = int(save)\n",
    "    except ValueError:\n",
    "        print(\"Save needs to be an integer (e.g. 3+ = 3)\")\n",
    "    try:\n",
    "        n_hits = int(n_hits)\n",
    "    except ValueError:\n",
    "        print(\"The number of hits needs to be an integer\")\n",
    "    if strength == \"D\":\n",
    "        pass\n",
    "    elif strength == \"D-1\":\n",
    "        pass\n",
    "    else:\n",
    "        try:\n",
    "            strength = int(strength)\n",
    "        except ValueError:\n",
    "            print(\"Strength must be an integer or D\")\n",
    "\n",
    "    woundrolls = DiceRoller(n_hits)\n",
    "    if rend ==1:\n",
    "        auto == 1\n",
    "    else:\n",
    "        pass\n",
    "    \n",
    "    if auto == 0:\n",
    "        if strength == \"D\":\n",
    "            NoSaveD = np.sum(woundrolls==6)\n",
    "            SaveD = np.sum(1<woundrolls) - NoSaveD\n",
    "            saverolls = DiceRoller(SaveD)\n",
    "            unsaved = np.sum(saverolls<save)\n",
    "            unsaved_expanded = 0\n",
    "            for k in range(unsaved):\n",
    "                unsaved_expanded = unsaved_expanded + min(woundspermodel,rand.randint(1,3))\n",
    "            for j in range(NoSaveD):\n",
    "                unsaved_expanded = unsaved_expanded + min(woundspermodel,(rand.randint(1,6)+6))\n",
    "            finalwounds = unsaved_expanded\n",
    "        elif strength == \"D-1\":\n",
    "            SaveD = np.sum(2<woundrolls)\n",
    "            saverolls = DiceRoller(SaveD)\n",
    "            unsaved = np.sum(saverolls<save)\n",
    "            unsaved_expanded = 0\n",
    "            for k in range(unsaved):\n",
    "                unsaved_expanded = unsaved_expanded + min(woundspermodel,rand.randint(1,3))\n",
    "            finalwounds = unsaved_expanded\n",
    "        \n",
    "        else:\n",
    "            SvTDiff = strength-toughness\n",
    "            ToWound = max(2,4-SvTDiff)\n",
    "            wounds = np.sum(woundrolls.__ge__(ToWound))\n",
    "            saverolls = DiceRoller(wounds)\n",
    "            unsaved = np.sum(saverolls<(save))\n",
    "            finalwounds = unsaved\n",
    "            \n",
    "    else:\n",
    "        if strength == \"D\":\n",
    "            NoSaveD = np.sum(woundrolls==6)\n",
    "            SaveD = np.sum(1<woundrolls) - NoSaveD\n",
    "            saverolls = DiceRoller(SaveD)\n",
    "            unsaved = np.sum(saverolls<save)\n",
    "            unsaved_expanded = 0\n",
    "            for k in range(unsaved):\n",
    "                unsaved_expanded = unsaved_expanded + min(woundspermodel,rand.randint(1,3))\n",
    "            for j in range(NoSaveD):\n",
    "                unsaved_expanded = unsaved_expanded + min(woundspermodel,(rand.randint(1,6)+6))\n",
    "            finalwounds = unsaved_expanded\n",
    "        elif strength == \"D-1\":\n",
    "            SaveD = np.sum(2<woundrolls)\n",
    "            saverolls = DiceRoller(SaveD)\n",
    "            unsaved = np.sum(saverolls<save)\n",
    "            unsaved_expanded = 0\n",
    "            for k in range(unsaved):\n",
    "                unsaved_expanded = unsaved_expanded + min(woundspermodel,rand.randint(1,3))\n",
    "            finalwounds = unsaved_expanded\n",
    "        \n",
    "        else:\n",
    "            SvTDiff = strength-toughness\n",
    "            autowounds = np.sum(woundrolls>=auto)\n",
    "            if rend == 1:\n",
    "                rends = np.sum(woundrolls>=6)\n",
    "            else:\n",
    "                rends = 0  \n",
    "            ToWound = max(2,4-SvTDiff)\n",
    "            wounds = np.sum(woundrolls.__ge__(ToWound))\n",
    "            if ToWound > 6:\n",
    "                truewounds = autowounds\n",
    "            else:\n",
    "                truewounds = wounds\n",
    "            saverolls = DiceRoller(truewounds-rends)\n",
    "            if rend == 0:\n",
    "                unsaved = np.sum(saverolls<(save))\n",
    "            else:\n",
    "                unsaved = np.sum(saverolls<(save)+rends)\n",
    "            finalwounds = unsaved\n",
    "        \n",
    "    return finalwounds"
   ]
  },
  {
   "cell_type": "code",
   "execution_count": 8,
   "metadata": {
    "collapsed": false
   },
   "outputs": [
    {
     "name": "stderr",
     "output_type": "stream",
     "text": [
      "/Users/elofgren/anaconda/lib/python2.7/site-packages/ipykernel/__main__.py:6: DeprecationWarning: This function is deprecated. Please call randint(1, 6 + 1) instead\n",
      "/Users/elofgren/anaconda/lib/python2.7/site-packages/ipykernel/__main__.py:6: VisibleDeprecationWarning: using a non-integer number instead of an integer will result in an error in the future\n"
     ]
    },
    {
     "data": {
      "text/plain": [
       "<matplotlib.text.Text at 0x116197e10>"
      ]
     },
     "execution_count": 8,
     "metadata": {},
     "output_type": "execute_result"
    },
    {
     "data": {
      "image/png": "[encoded data removed]",
      "text/plain": [
       "<matplotlib.figure.Figure at 0x1160e6f10>"
      ]
     },
     "metadata": {},
     "output_type": "display_data"
    }
   ],
   "source": [
    "# def Wounding(strength,toughness,save,n_hits,woundspermodel,auto,rend):\n",
    "def BoltersStandard():\n",
    "    BolterShots = Shooting(4,20,'N')[1]\n",
    "    BolterWounds = Wounding(4,4,2,BolterShots,1,rend=0,auto=0)\n",
    "    return float(BolterWounds)\n",
    "\n",
    "def Bolters2W():\n",
    "    BolterShots = Shooting(4,20,'N')[1]\n",
    "    BolterWounds = Wounding(4,4,2,BolterShots,1,rend=0,auto=0)\n",
    "    return float(BolterWounds/2)\n",
    "\n",
    "def BoltersT5():\n",
    "    BolterShots = Shooting(4,20,'N')[1]\n",
    "    BolterWounds = Wounding(4,5,2,BolterShots,1,rend=0,auto=0)\n",
    "    return float(BolterWounds)\n",
    "\n",
    "bolters = np.empty([runs,3])\n",
    "\n",
    "for e in range(runs):\n",
    "    bolters[e][0] = BoltersStandard()\n",
    "    bolters[e][1] = Bolters2W()\n",
    "    bolters[e][2] = BoltersT5()\n",
    "\n",
    "plt.hist(bolters[:,0],bins=7,alpha=0.25,color=\"DarkViolet\")\n",
    "plt.hist(bolters[:,1],bins=7,alpha=0.25,color=\"DeepSkyBlue\")\n",
    "plt.hist(bolters[:,2],bins=7,alpha=0.25,color=\"DarkGreen\")\n",
    "plt.xlabel(\"Terminators Killed\")\n",
    "plt.ylabel(\"Number of Simulated Games\")  "
   ]
  },
  {
   "cell_type": "code",
   "execution_count": 9,
   "metadata": {
    "collapsed": false
   },
   "outputs": [
    {
     "name": "stderr",
     "output_type": "stream",
     "text": [
      "/Users/elofgren/anaconda/lib/python2.7/site-packages/ipykernel/__main__.py:6: DeprecationWarning: This function is deprecated. Please call randint(1, 6 + 1) instead\n",
      "/Users/elofgren/anaconda/lib/python2.7/site-packages/ipykernel/__main__.py:6: VisibleDeprecationWarning: using a non-integer number instead of an integer will result in an error in the future\n"
     ]
    },
    {
     "data": {
      "text/plain": [
       "<matplotlib.text.Text at 0x118ca4d90>"
      ]
     },
     "execution_count": 9,
     "metadata": {},
     "output_type": "execute_result"
    },
    {
     "data": {
      "image/png": "[encoded data removed]",
      "text/plain": [
       "<matplotlib.figure.Figure at 0x1185f3290>"
      ]
     },
     "metadata": {},
     "output_type": "display_data"
    }
   ],
   "source": [
    "def BoltersT5():\n",
    "    BolterShots = Shooting(4,20,'N')[1]\n",
    "    BolterWounds = Wounding(4,5,2,BolterShots,1,rend=0,auto=0)\n",
    "    return float(BolterWounds)\n",
    "\n",
    "def BoltersVTW():\n",
    "    BolterShots = Shooting(4,20,'N')[1]\n",
    "    BolterWounds = Wounding(4,5,3,BolterShots,1,rend=0,auto=0)\n",
    "    return float(BolterWounds/2)\n",
    "\n",
    "pulse = np.empty([runs,3])\n",
    "\n",
    "for f in range(runs):\n",
    "    pulse[f][0] = BoltersT5()*33\n",
    "    pulse[f][1] = BoltersVTW()*40\n",
    "\n",
    "plt.hist(pulse[:,1],bins=6,alpha=0.25,color=\"Red\")\n",
    "plt.hist(pulse[:,0],bins=6,alpha=0.25,color=\"DarkGreen\")\n",
    "plt.xlabel(\"Points of Models Removed\")\n",
    "plt.ylabel(\"Number of Simulated Games\") "
   ]
  },
  {
   "cell_type": "code",
   "execution_count": 10,
   "metadata": {
    "collapsed": false
   },
   "outputs": [
    {
     "name": "stderr",
     "output_type": "stream",
     "text": [
      "/Users/elofgren/anaconda/lib/python2.7/site-packages/ipykernel/__main__.py:6: DeprecationWarning: This function is deprecated. Please call randint(1, 6 + 1) instead\n",
      "/Users/elofgren/anaconda/lib/python2.7/site-packages/ipykernel/__main__.py:6: VisibleDeprecationWarning: using a non-integer number instead of an integer will result in an error in the future\n"
     ]
    },
    {
     "data": {
      "text/plain": [
       "<matplotlib.text.Text at 0x118ca4ad0>"
      ]
     },
     "execution_count": 10,
     "metadata": {},
     "output_type": "execute_result"
    },
    {
     "data": {
      "image/png": "[encoded data removed]",
      "text/plain": [
       "<matplotlib.figure.Figure at 0x118d31f90>"
      ]
     },
     "metadata": {},
     "output_type": "display_data"
    }
   ],
   "source": [
    "def BoltersT5():\n",
    "    BolterShots = Shooting(4,20,'N')[1]\n",
    "    BolterWounds = Wounding(4,5,2,BolterShots,1,rend=0,auto=0)\n",
    "    return float(BolterWounds/2)\n",
    "\n",
    "def BoltersVTW():\n",
    "    BolterShots = Shooting(4,20,'N')[1]\n",
    "    BolterWounds = Wounding(4,5,3,BolterShots,1,rend=0,auto=0)\n",
    "    return float(BolterWounds/2)\n",
    "\n",
    "pulse = np.empty([runs,3])\n",
    "\n",
    "for f in range(runs):\n",
    "    pulse[f][0] = BoltersT5()*33\n",
    "    pulse[f][1] = BoltersVTW()*40\n",
    "\n",
    "plt.hist(pulse[:,1],bins=6,alpha=0.25,color=\"Red\")\n",
    "plt.hist(pulse[:,0],bins=6,alpha=0.25,color=\"DarkGreen\")\n",
    "plt.xlabel(\"Points of Models Removed\")\n",
    "plt.ylabel(\"Number of Simulated Games\") "
   ]
  },
  {
   "cell_type": "code",
   "execution_count": 11,
   "metadata": {
    "collapsed": false
   },
   "outputs": [
    {
     "name": "stderr",
     "output_type": "stream",
     "text": [
      "/Users/elofgren/anaconda/lib/python2.7/site-packages/ipykernel/__main__.py:6: DeprecationWarning: This function is deprecated. Please call randint(1, 6 + 1) instead\n",
      "/Users/elofgren/anaconda/lib/python2.7/site-packages/ipykernel/__main__.py:6: VisibleDeprecationWarning: using a non-integer number instead of an integer will result in an error in the future\n"
     ]
    },
    {
     "data": {
      "text/plain": [
       "<matplotlib.text.Text at 0x118cc1390>"
      ]
     },
     "execution_count": 11,
     "metadata": {},
     "output_type": "execute_result"
    },
    {
     "data": {
      "image/png": "[encoded data removed]",
      "text/plain": [
       "<matplotlib.figure.Figure at 0x116182250>"
      ]
     },
     "metadata": {},
     "output_type": "display_data"
    }
   ],
   "source": [
    "def ScatterLaservsT3():\n",
    "    Shots = Shooting(4,20,'N')[1]\n",
    "    Wounds = Wounding(4,3,3,Shots,1,rend=0,auto=0)\n",
    "    return float(Wounds)\n",
    "\n",
    "sisters = np.empty([runs,1])\n",
    "\n",
    "for g in range(runs):\n",
    "    sisters[g][0] = ScatterLaservsT3()\n",
    "\n",
    "plt.hist(sisters[:,0],bins=9,alpha=0.75,color=\"DarkGreen\")\n",
    "plt.xlabel(\"Number of Sisters Killed\")\n",
    "plt.ylabel(\"Number of Simulated Games\") "
   ]
  },
  {
   "cell_type": "code",
   "execution_count": 16,
   "metadata": {
    "collapsed": false
   },
   "outputs": [
    {
     "name": "stderr",
     "output_type": "stream",
     "text": [
      "/Users/elofgren/anaconda/lib/python2.7/site-packages/ipykernel/__main__.py:6: DeprecationWarning: This function is deprecated. Please call randint(1, 6 + 1) instead\n",
      "/Users/elofgren/anaconda/lib/python2.7/site-packages/ipykernel/__main__.py:6: VisibleDeprecationWarning: using a non-integer number instead of an integer will result in an error in the future\n"
     ]
    },
    {
     "data": {
      "text/plain": [
       "<matplotlib.text.Text at 0x119960150>"
      ]
     },
     "execution_count": 16,
     "metadata": {},
     "output_type": "execute_result"
    },
    {
     "data": {
      "image/png": "[encoded data removed]",
      "text/plain": [
       "<matplotlib.figure.Figure at 0x11909df90>"
      ]
     },
     "metadata": {},
     "output_type": "display_data"
    }
   ],
   "source": [
    "def ScatterLaservsCul():\n",
    "    Shots = Shooting(1,20,'N')[1]\n",
    "    Wounds = Wounding(4,4,4,Shots,1,rend=0,auto=0)\n",
    "    return float(Wounds)\n",
    "\n",
    "cul = np.empty([runs,1])\n",
    "\n",
    "for g in range(runs):\n",
    "    cul[g][0] = ScatterLaservsCul()\n",
    "\n",
    "plt.hist(sisters[:,0],bins=15,alpha=0.75,color=\"DarkGreen\")\n",
    "plt.xlabel(\"Number of Sisters Killed\")\n",
    "plt.ylabel(\"Number of Simulated Games\") "
   ]
  },
  {
   "cell_type": "code",
   "execution_count": null,
   "metadata": {
    "collapsed": true
   },
   "outputs": [],
   "source": [
    "def ScatterLaservsT3():\n",
    "    Shots = Shooting(4,20,'N')[1]\n",
    "    Wounds = Wounding(4,3,3,Shots,1,rend=0,auto=0)\n",
    "    return float(Wounds)\n",
    "\n",
    "sisters = np.empty([runs,1])\n",
    "\n",
    "for g in range(runs):\n",
    "    sisters[g][0] = ScatterLaservsT3()\n",
    "\n",
    "plt.hist(sisters[:,0],bins=9,alpha=0.75,color=\"DarkGreen\")\n",
    "plt.xlabel(\"Number of Sisters Killed\")\n",
    "plt.ylabel(\"Number of Simulated Games\") "
   ]
  },
  {
   "cell_type": "code",
   "execution_count": null,
   "metadata": {
    "collapsed": true
   },
   "outputs": [],
   "source": []
  }
 ],
 "metadata": {
  "anaconda-cloud": {},
  "kernelspec": {
   "display_name": "Python [Root]",
   "language": "python",
   "name": "Python [Root]"
  },
  "language_info": {
   "codemirror_mode": {
    "name": "ipython",
    "version": 2
   },
   "file_extension": ".py",
   "mimetype": "text/x-python",
   "name": "python",
   "nbconvert_exporter": "python",
   "pygments_lexer": "ipython2",
   "version": "2.7.12"
  }
 },
 "nbformat": 4,
 "nbformat_minor": 0
}
